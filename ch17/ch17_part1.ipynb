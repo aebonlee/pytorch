{
 "cells": [
  {
   "cell_type": "markdown",
   "metadata": {
    "id": "BiW35ox3lW8J",
    "tags": []
   },
   "source": [
    "# 머신 러닝 교과서 - 파이토치편"
   ]
  },
  {
   "cell_type": "markdown",
   "metadata": {
    "id": "nsJhPpuglW8M"
   },
   "source": [
    "<table align=\"left\"><tr><td>\n",
    "<a href=\"https://colab.research.google.com/github/rickiepark/ml-with-pytorch/blob/main/ch17/ch17_part1.ipynb\" target=\"_parent\"><img src=\"https://colab.research.google.com/assets/colab-badge.svg\" alt=\"코랩에서 실행하기\"/></a>\n",
    "</td></tr></table>"
   ]
  },
  {
   "cell_type": "markdown",
   "metadata": {
    "id": "rYrvhRtmlW8M"
   },
   "source": [
    "## 패키지 버전 체크"
   ]
  },
  {
   "cell_type": "markdown",
   "metadata": {
    "id": "gP1CbHKClW8M"
   },
   "source": [
    "check_packages.py 스크립트에서 로드하기 위해 폴더를 추가합니다:"
   ]
  },
  {
   "cell_type": "code",
   "execution_count": 1,
   "metadata": {
    "colab": {
     "base_uri": "https://localhost:8080/"
    },
    "id": "7watWP6elW8N",
    "outputId": "8e32a4c7-78fc-41cb-d86d-1afda6945652"
   },
   "outputs": [],
   "source": [
    "import sys\n",
    "\n",
    "# 코랩의 경우 깃허브 저장소로부터 python_environment_check.py를 다운로드 합니다.\n",
    "if 'google.colab' in sys.modules:\n",
    "    !wget https://raw.githubusercontent.com/rickiepark/ml-with-pytorch/main/python_environment_check.py\n",
    "else:\n",
    "    sys.path.insert(0, '..')"
   ]
  },
  {
   "cell_type": "markdown",
   "metadata": {
    "id": "n2-iKjVdlW8O"
   },
   "source": [
    "권장 패키지 버전을 확인하세요:"
   ]
  },
  {
   "cell_type": "code",
   "execution_count": 2,
   "metadata": {
    "colab": {
     "base_uri": "https://localhost:8080/"
    },
    "id": "J4yqr_MllW8O",
    "outputId": "46856f82-5c0a-4866-9f7a-c15b3c69303a"
   },
   "outputs": [
    {
     "name": "stdout",
     "output_type": "stream",
     "text": [
      "[OK] Your Python version is 3.8.7 (default, Dec 21 2020, 20:10:35) \n",
      "[GCC 7.5.0]\n",
      "[OK] torch 1.9.0+cu111\n",
      "[OK] torchvision 0.10.0+cu111\n",
      "[FAIL] numpy 1.19.4, please upgrade to >= 1.21.2\n",
      "[FAIL] matplotlib 3.3.3, please upgrade to >= 3.4.3\n"
     ]
    }
   ],
   "source": [
    "from python_environment_check import check_packages\n",
    "\n",
    "\n",
    "d = {\n",
    "    'torch': '1.8.0',\n",
    "    'torchvision': '0.9.0',\n",
    "    'numpy': '1.21.2',\n",
    "    'matplotlib': '3.4.3',\n",
    "}\n",
    "\n",
    "check_packages(d)"
   ]
  },
  {
   "cell_type": "markdown",
   "metadata": {
    "id": "kNcxEgYjlW8P"
   },
   "source": [
    "# 새로운 데이터 합성을 위한 생성적 적대 신경망 (파트 1/2)"
   ]
  },
  {
   "cell_type": "markdown",
   "metadata": {
    "id": "HdMnBlAolW8P"
   },
   "source": [
    "**목차**\n",
    "\n",
    "- 생성적 적대 신경망 소개\n",
    "  - 오토인코더\n",
    "  - 새로운 데이터 합성을 위한 생성 모델\n",
    "  - GAN으로 새로운 샘플 생성\n",
    "  - GAN의 생성자와 판별자 손실 함수 이해\n",
    "- 밑바닥부터 GAN 모델 구현\n",
    "  - 구글 코랩에서 GAN 모델 훈련\n",
    "  - 생성자와 판별자 신경망 구현\n",
    "  - 훈련 데이터셋 정의\n",
    "  - GAN 모델 훈련하기"
   ]
  },
  {
   "cell_type": "code",
   "execution_count": 3,
   "metadata": {
    "id": "YAs6X8v5lW8P"
   },
   "outputs": [],
   "source": [
    "from IPython.display import Image\n",
    "%matplotlib inline"
   ]
  },
  {
   "cell_type": "markdown",
   "metadata": {
    "id": "tbEhtMpclW8Q"
   },
   "source": [
    "# 생성적 적대 신경망 소개\n",
    "\n",
    "## 오토인코더\n"
   ]
  },
  {
   "cell_type": "code",
   "execution_count": 4,
   "metadata": {
    "colab": {
     "base_uri": "https://localhost:8080/",
     "height": 470
    },
    "id": "Z0fnqMu5lW8Q",
    "outputId": "fa539f41-0580-4d29-9cfb-019f1b59e7c6"
   },
   "outputs": [
    {
     "data": {
      "text/html": [
       "<img src=\"https://raw.githubusercontent.com/rickiepark/ml-with-pytorch/main/ch17/figures/17_01.png\" width=\"500\"/>"
      ],
      "text/plain": [
       "<IPython.core.display.Image object>"
      ]
     },
     "execution_count": 4,
     "metadata": {},
     "output_type": "execute_result"
    }
   ],
   "source": [
    "Image(url='https://raw.githubusercontent.com/rickiepark/ml-with-pytorch/main/ch17/figures/17_01.png', width=500)"
   ]
  },
  {
   "cell_type": "markdown",
   "metadata": {
    "id": "1XFR3h4ZlW8Q"
   },
   "source": [
    "## 새로운 데이터 합성을 위한 생성 모델\n"
   ]
  },
  {
   "cell_type": "code",
   "execution_count": 5,
   "metadata": {
    "colab": {
     "base_uri": "https://localhost:8080/",
     "height": 438
    },
    "id": "JqMkOmm1lW8Q",
    "outputId": "9303b0a8-c6db-4c34-e78b-3de6b433bf4b"
   },
   "outputs": [
    {
     "data": {
      "text/html": [
       "<img src=\"https://raw.githubusercontent.com/rickiepark/ml-with-pytorch/main/ch17/figures/17_02.png\" width=\"700\"/>"
      ],
      "text/plain": [
       "<IPython.core.display.Image object>"
      ]
     },
     "execution_count": 5,
     "metadata": {},
     "output_type": "execute_result"
    }
   ],
   "source": [
    "Image(url='https://raw.githubusercontent.com/rickiepark/ml-with-pytorch/main/ch17/figures/17_02.png', width=700)"
   ]
  },
  {
   "cell_type": "markdown",
   "metadata": {
    "id": "IscJi_NOlW8Q"
   },
   "source": [
    "## GAN으로 새로운 샘플 생성\n"
   ]
  },
  {
   "cell_type": "code",
   "execution_count": 6,
   "metadata": {
    "colab": {
     "base_uri": "https://localhost:8080/",
     "height": 338
    },
    "id": "heMwTFqylW8Q",
    "outputId": "fe1d71ea-a81d-4a46-c9fc-cc91a0e515ff"
   },
   "outputs": [
    {
     "data": {
      "text/html": [
       "<img src=\"https://raw.githubusercontent.com/rickiepark/ml-with-pytorch/main/ch17/figures/17_03.png\" width=\"700\"/>"
      ],
      "text/plain": [
       "<IPython.core.display.Image object>"
      ]
     },
     "execution_count": 6,
     "metadata": {},
     "output_type": "execute_result"
    }
   ],
   "source": [
    "Image(url='https://raw.githubusercontent.com/rickiepark/ml-with-pytorch/main/ch17/figures/17_03.png', width=700)"
   ]
  },
  {
   "cell_type": "markdown",
   "metadata": {
    "id": "UlYnKWOalW8R"
   },
   "source": [
    "## GAN의 생성자와 판별자 손실 함수 이해\n"
   ]
  },
  {
   "cell_type": "code",
   "execution_count": 7,
   "metadata": {
    "colab": {
     "base_uri": "https://localhost:8080/",
     "height": 516
    },
    "id": "KU8FhewelW8R",
    "outputId": "7da9ca95-de3e-458c-ecf8-f2e52df95cfa"
   },
   "outputs": [
    {
     "data": {
      "text/html": [
       "<img src=\"https://raw.githubusercontent.com/rickiepark/ml-with-pytorch/main/ch17/figures/17_04.png\" width=\"800\"/>"
      ],
      "text/plain": [
       "<IPython.core.display.Image object>"
      ]
     },
     "execution_count": 7,
     "metadata": {},
     "output_type": "execute_result"
    }
   ],
   "source": [
    "Image(url='https://raw.githubusercontent.com/rickiepark/ml-with-pytorch/main/ch17/figures/17_04.png', width=800)"
   ]
  },
  {
   "cell_type": "markdown",
   "metadata": {
    "id": "6TQzsqwClW8R"
   },
   "source": [
    "# 밑바닥부터 GAN 모델 구현\n"
   ]
  },
  {
   "cell_type": "markdown",
   "metadata": {
    "id": "M8LOiq0ClW8R"
   },
   "source": [
    "## 구글 코랩에서 GAN 모델 훈련\n"
   ]
  },
  {
   "cell_type": "code",
   "execution_count": 8,
   "metadata": {
    "colab": {
     "base_uri": "https://localhost:8080/",
     "height": 509
    },
    "id": "Ps9VuL78lW8R",
    "outputId": "9277b097-2e34-4e80-b8b5-aa37b1f64f4f"
   },
   "outputs": [
    {
     "data": {
      "text/html": [
       "<img src=\"https://raw.githubusercontent.com/rickiepark/ml-with-pytorch/main/ch17/figures/17_05.png\" width=\"700\"/>"
      ],
      "text/plain": [
       "<IPython.core.display.Image object>"
      ]
     },
     "execution_count": 8,
     "metadata": {},
     "output_type": "execute_result"
    }
   ],
   "source": [
    "Image(url='https://raw.githubusercontent.com/rickiepark/ml-with-pytorch/main/ch17/figures/17_05.png', width=700)"
   ]
  },
  {
   "cell_type": "code",
   "execution_count": 9,
   "metadata": {
    "colab": {
     "base_uri": "https://localhost:8080/",
     "height": 297
    },
    "id": "OmpQLUeRlW8R",
    "outputId": "0ba8d074-2c08-4c77-f29c-bdc642eaf7d8"
   },
   "outputs": [
    {
     "data": {
      "text/html": [
       "<img src=\"https://raw.githubusercontent.com/rickiepark/ml-with-pytorch/main/ch17/figures/17_06.png\" width=\"600\"/>"
      ],
      "text/plain": [
       "<IPython.core.display.Image object>"
      ]
     },
     "execution_count": 9,
     "metadata": {},
     "output_type": "execute_result"
    }
   ],
   "source": [
    "Image(url='https://raw.githubusercontent.com/rickiepark/ml-with-pytorch/main/ch17/figures/17_06.png', width=600)"
   ]
  },
  {
   "cell_type": "code",
   "execution_count": 10,
   "metadata": {
    "colab": {
     "base_uri": "https://localhost:8080/"
    },
    "id": "_khN3hi1xxQ-",
    "outputId": "76c19d8b-c200-4677-bab7-2670a9fb048f"
   },
   "outputs": [
    {
     "name": "stdout",
     "output_type": "stream",
     "text": [
      "1.9.0+cu111\n",
      "GPU 사용: True\n"
     ]
    }
   ],
   "source": [
    "import torch\n",
    "\n",
    "\n",
    "print(torch.__version__)\n",
    "print(\"GPU 사용:\", torch.cuda.is_available())\n",
    "\n",
    "if torch.cuda.is_available():\n",
    "    device = torch.device(\"cuda:0\")\n",
    "else:\n",
    "    device = \"cpu\""
   ]
  },
  {
   "cell_type": "code",
   "execution_count": 11,
   "metadata": {
    "colab": {
     "base_uri": "https://localhost:8080/"
    },
    "id": "xjzZg1KtlW8S",
    "outputId": "bc9906ce-526c-4eea-957e-250dab771158"
   },
   "outputs": [
    {
     "name": "stdout",
     "output_type": "stream",
     "text": [
      "Defaulting to user installation because normal site-packages is not writeable\r\n",
      "Looking in indexes: https://pypi.org/simple, https://pypi.ngc.nvidia.com\r\n",
      "Requirement already satisfied: torchvision in /usr/local/lib/python3.8/dist-packages (0.10.0+cu111)\r\n",
      "Requirement already satisfied: numpy in /usr/local/lib/python3.8/dist-packages (from torchvision) (1.19.4)\r\n",
      "Requirement already satisfied: torch==1.9.0 in /usr/local/lib/python3.8/dist-packages (from torchvision) (1.9.0+cu111)\r\n",
      "Requirement already satisfied: pillow>=5.3.0 in /usr/local/lib/python3.8/dist-packages (from torchvision) (6.2.2)\r\n",
      "Requirement already satisfied: typing-extensions in /usr/local/lib/python3.8/dist-packages (from torch==1.9.0->torchvision) (3.7.4.1)\r\n",
      "\u001b[33mWARNING: You are using pip version 21.1.2; however, version 23.2.1 is available.\r\n",
      "You should consider upgrading via the '/usr/bin/python3 -m pip install --upgrade pip' command.\u001b[0m\r\n"
     ]
    }
   ],
   "source": [
    "!pip install torchvision"
   ]
  },
  {
   "cell_type": "code",
   "execution_count": 12,
   "metadata": {
    "id": "ehoy80rqwNnl"
   },
   "outputs": [],
   "source": [
    "#from google.colab import drive\n",
    "#drive.mount('/content/drive/')"
   ]
  },
  {
   "cell_type": "markdown",
   "metadata": {
    "id": "Qhs0F2bulW8S"
   },
   "source": [
    "## 생성자와 판별자 신경망 구현\n"
   ]
  },
  {
   "cell_type": "code",
   "execution_count": 13,
   "metadata": {
    "colab": {
     "base_uri": "https://localhost:8080/",
     "height": 474
    },
    "id": "bTUYkiP9lW8S",
    "outputId": "3a100533-23fc-4f47-c9ce-eaf15eeeed69"
   },
   "outputs": [
    {
     "data": {
      "text/html": [
       "<img src=\"https://raw.githubusercontent.com/rickiepark/ml-with-pytorch/main/ch17/figures/17_08.png\" width=\"600\"/>"
      ],
      "text/plain": [
       "<IPython.core.display.Image object>"
      ]
     },
     "execution_count": 13,
     "metadata": {},
     "output_type": "execute_result"
    }
   ],
   "source": [
    "Image(url='https://raw.githubusercontent.com/rickiepark/ml-with-pytorch/main/ch17/figures/17_08.png', width=600)"
   ]
  },
  {
   "cell_type": "code",
   "execution_count": 14,
   "metadata": {
    "colab": {
     "base_uri": "https://localhost:8080/",
     "height": 360
    },
    "id": "yqbTGgjRlW8S",
    "outputId": "e8a0acee-0828-4e93-d66e-7c829516344e"
   },
   "outputs": [
    {
     "data": {
      "text/html": [
       "<img src=\"https://raw.githubusercontent.com/rickiepark/ml-with-pytorch/main/ch17/figures/17_17.png\" width=\"600\"/>"
      ],
      "text/plain": [
       "<IPython.core.display.Image object>"
      ]
     },
     "execution_count": 14,
     "metadata": {},
     "output_type": "execute_result"
    }
   ],
   "source": [
    "Image(url='https://raw.githubusercontent.com/rickiepark/ml-with-pytorch/main/ch17/figures/17_17.png', width=600)"
   ]
  },
  {
   "cell_type": "code",
   "execution_count": 15,
   "metadata": {
    "id": "GS5MT1iFlW8S"
   },
   "outputs": [],
   "source": [
    "import torch.nn as nn\n",
    "import numpy as np\n",
    "\n",
    "import matplotlib.pyplot as plt\n",
    "%matplotlib inline"
   ]
  },
  {
   "cell_type": "code",
   "execution_count": 16,
   "metadata": {
    "id": "HGI6d08MlW8S"
   },
   "outputs": [],
   "source": [
    "## 생성자 함수 정의\n",
    "def make_generator_network(\n",
    "        input_size=20,\n",
    "        num_hidden_layers=1,\n",
    "        num_hidden_units=100,\n",
    "        num_output_units=784):\n",
    "    model = nn.Sequential()\n",
    "    for i in range(num_hidden_layers):\n",
    "        model.add_module(f'fc_g{i}',\n",
    "                         nn.Linear(input_size,\n",
    "                                   num_hidden_units))\n",
    "        model.add_module(f'relu_g{i}',\n",
    "                         nn.LeakyReLU())\n",
    "        input_size = num_hidden_units\n",
    "    model.add_module(f'fc_g{num_hidden_layers}',\n",
    "                    nn.Linear(input_size, num_output_units))\n",
    "    model.add_module('tanh_g', nn.Tanh())\n",
    "    return model\n",
    "\n",
    "## 판별자 함수 정의\n",
    "def make_discriminator_network(\n",
    "        input_size,\n",
    "        num_hidden_layers=1,\n",
    "        num_hidden_units=100,\n",
    "        num_output_units=1):\n",
    "    model = nn.Sequential()\n",
    "    for i in range(num_hidden_layers):\n",
    "        model.add_module(f'fc_d{i}',\n",
    "                 nn.Linear(input_size,\n",
    "                           num_hidden_units, bias=False))\n",
    "        model.add_module(f'relu_d{i}',\n",
    "                         nn.LeakyReLU())\n",
    "        model.add_module('dropout', nn.Dropout(p=0.5))\n",
    "        input_size = num_hidden_units\n",
    "    model.add_module(f'fc_d{num_hidden_layers}',\n",
    "                     nn.Linear(input_size, num_output_units))\n",
    "    model.add_module('sigmoid', nn.Sigmoid())\n",
    "    return model"
   ]
  },
  {
   "cell_type": "code",
   "execution_count": 17,
   "metadata": {
    "colab": {
     "base_uri": "https://localhost:8080/"
    },
    "id": "dLWuCkc6lW8S",
    "outputId": "cdb74010-bc07-4f34-be31-e56f45e2acd2"
   },
   "outputs": [
    {
     "name": "stdout",
     "output_type": "stream",
     "text": [
      "Sequential(\n",
      "  (fc_g0): Linear(in_features=20, out_features=100, bias=True)\n",
      "  (relu_g0): LeakyReLU(negative_slope=0.01)\n",
      "  (fc_g1): Linear(in_features=100, out_features=784, bias=True)\n",
      "  (tanh_g): Tanh()\n",
      ")\n"
     ]
    }
   ],
   "source": [
    "image_size = (28, 28)\n",
    "z_size = 20\n",
    "\n",
    "gen_hidden_layers = 1\n",
    "gen_hidden_size = 100\n",
    "disc_hidden_layers = 1\n",
    "disc_hidden_size = 100\n",
    "\n",
    "torch.manual_seed(1)\n",
    "\n",
    "gen_model = make_generator_network(\n",
    "    input_size=z_size,\n",
    "    num_hidden_layers=gen_hidden_layers,\n",
    "    num_hidden_units=gen_hidden_size,\n",
    "    num_output_units=np.prod(image_size))\n",
    "\n",
    "print(gen_model)"
   ]
  },
  {
   "cell_type": "code",
   "execution_count": 18,
   "metadata": {
    "colab": {
     "base_uri": "https://localhost:8080/"
    },
    "id": "QAhbOUZHxN1b",
    "outputId": "b61e6f12-098f-40e1-aa25-46a039f764e0"
   },
   "outputs": [
    {
     "name": "stdout",
     "output_type": "stream",
     "text": [
      "Sequential(\n",
      "  (fc_d0): Linear(in_features=784, out_features=100, bias=False)\n",
      "  (relu_d0): LeakyReLU(negative_slope=0.01)\n",
      "  (dropout): Dropout(p=0.5, inplace=False)\n",
      "  (fc_d1): Linear(in_features=100, out_features=1, bias=True)\n",
      "  (sigmoid): Sigmoid()\n",
      ")\n"
     ]
    }
   ],
   "source": [
    "disc_model = make_discriminator_network(\n",
    "    input_size=np.prod(image_size),\n",
    "    num_hidden_layers=disc_hidden_layers,\n",
    "    num_hidden_units=disc_hidden_size)\n",
    "\n",
    "print(disc_model)"
   ]
  },
  {
   "cell_type": "markdown",
   "metadata": {
    "id": "13I2ZFU1lW8T"
   },
   "source": [
    "## 훈련 데이터셋 정의\n"
   ]
  },
  {
   "cell_type": "markdown",
   "metadata": {
    "id": "HT57CGAz0RDr"
   },
   "source": [
    " * **데이터 흐름에 따라 단계적으로 처리**"
   ]
  },
  {
   "cell_type": "code",
   "execution_count": 19,
   "metadata": {
    "colab": {
     "base_uri": "https://localhost:8080/"
    },
    "id": "21aH7OHJlW8T",
    "outputId": "20fc40bb-44e5-4c53-8cbb-e60bd6986f53"
   },
   "outputs": [
    {
     "name": "stdout",
     "output_type": "stream",
     "text": [
      "최소: -1.0 최대: 1.0\n",
      "torch.Size([1, 28, 28])\n"
     ]
    },
    {
     "name": "stderr",
     "output_type": "stream",
     "text": [
      "/usr/local/lib/python3.8/dist-packages/torchvision/datasets/mnist.py:498: UserWarning: The given NumPy array is not writeable, and PyTorch does not support non-writeable tensors. This means you can write to the underlying (supposedly non-writeable) NumPy array using the tensor. You may want to copy the array to protect its data or make it writeable before converting it to a tensor. This type of warning will be suppressed for the rest of this program. (Triggered internally at  /pytorch/torch/csrc/utils/tensor_numpy.cpp:180.)\n",
      "  return torch.from_numpy(parsed.astype(m[2], copy=False)).view(*s)\n"
     ]
    }
   ],
   "source": [
    "import torchvision\n",
    "from torchvision import transforms\n",
    "\n",
    "\n",
    "image_path = './'\n",
    "transform = transforms.Compose([\n",
    "    transforms.ToTensor(),\n",
    "    transforms.Normalize(mean=(0.5), std=(0.5)),\n",
    "])\n",
    "mnist_dataset = torchvision.datasets.MNIST(root=image_path,\n",
    "                                           train=True,\n",
    "                                           transform=transform,\n",
    "                                           download=True)\n",
    "\n",
    "example, label = next(iter(mnist_dataset))\n",
    "print(f'최소: {example.min()} 최대: {example.max()}')\n",
    "print(example.shape)"
   ]
  },
  {
   "cell_type": "code",
   "execution_count": 20,
   "metadata": {
    "id": "9Yrcl6pmlW8T"
   },
   "outputs": [],
   "source": [
    "def create_noise(batch_size, z_size, mode_z):\n",
    "    if mode_z == 'uniform':\n",
    "        input_z = torch.rand(batch_size, z_size)*2 - 1\n",
    "    elif mode_z == 'normal':\n",
    "        input_z = torch.randn(batch_size, z_size)\n",
    "    return input_z"
   ]
  },
  {
   "cell_type": "code",
   "execution_count": 21,
   "metadata": {
    "colab": {
     "base_uri": "https://localhost:8080/"
    },
    "id": "w-HshnQylW8T",
    "outputId": "e93cde33-05e0-4103-834a-abcf1d0afe0b"
   },
   "outputs": [
    {
     "name": "stdout",
     "output_type": "stream",
     "text": [
      "input-z -- 크기: torch.Size([32, 20])\n",
      "input-real -- 크기: torch.Size([32, 784])\n",
      "생성자 출력 -- 크기: torch.Size([32, 784])\n",
      "판별자 (진짜) -- 크기: torch.Size([32, 1])\n",
      "판별자 (가짜) -- 크기: torch.Size([32, 1])\n"
     ]
    }
   ],
   "source": [
    "from torch.utils.data import DataLoader\n",
    "\n",
    "\n",
    "batch_size = 32\n",
    "dataloader = DataLoader(mnist_dataset, batch_size, shuffle=False)\n",
    "input_real, label = next(iter(dataloader))\n",
    "input_real = input_real.view(batch_size, -1)\n",
    "\n",
    "torch.manual_seed(1)\n",
    "mode_z = 'uniform'  # 'uniform' vs. 'normal'\n",
    "input_z = create_noise(batch_size, z_size, mode_z)\n",
    "\n",
    "print('input-z -- 크기:', input_z.shape)\n",
    "print('input-real -- 크기:', input_real.shape)\n",
    "\n",
    "g_output = gen_model(input_z)\n",
    "print('생성자 출력 -- 크기:', g_output.shape)\n",
    "\n",
    "d_proba_real = disc_model(input_real)\n",
    "d_proba_fake = disc_model(g_output)\n",
    "print('판별자 (진짜) -- 크기:', d_proba_real.shape)\n",
    "print('판별자 (가짜) -- 크기:', d_proba_fake.shape)"
   ]
  },
  {
   "cell_type": "markdown",
   "metadata": {
    "id": "yY_I37VflW8T"
   },
   "source": [
    "## GAN 모델 훈련하기"
   ]
  },
  {
   "cell_type": "code",
   "execution_count": 22,
   "metadata": {
    "colab": {
     "base_uri": "https://localhost:8080/"
    },
    "id": "RD-aqHjrlW8U",
    "outputId": "a3469d7f-fec6-453d-8d0e-5f6d3afcf4d3"
   },
   "outputs": [
    {
     "name": "stdout",
     "output_type": "stream",
     "text": [
      "Generator Loss: 0.6983\n",
      "판별자 손실: 진짜 0.7479 가짜 0.6885\n"
     ]
    }
   ],
   "source": [
    "loss_fn = nn.BCELoss()\n",
    "\n",
    "## 생성자 손실\n",
    "g_labels_real = torch.ones_like(d_proba_fake)\n",
    "g_loss = loss_fn(d_proba_fake, g_labels_real)\n",
    "print(f'Generator Loss: {g_loss:.4f}')\n",
    "\n",
    "## 판별자 손실\n",
    "d_labels_real = torch.ones_like(d_proba_real)\n",
    "d_labels_fake = torch.zeros_like(d_proba_fake)\n",
    "\n",
    "d_loss_real = loss_fn(d_proba_real, d_labels_real)\n",
    "d_loss_fake = loss_fn(d_proba_fake, d_labels_fake)\n",
    "print(f'판별자 손실: 진짜 {d_loss_real:.4f} 가짜 {d_loss_fake:.4f}')"
   ]
  },
  {
   "cell_type": "markdown",
   "metadata": {
    "id": "jtxdTVyF0KCF"
   },
   "source": [
    " * **최종 훈련**"
   ]
  },
  {
   "cell_type": "code",
   "execution_count": 23,
   "metadata": {
    "id": "3xKebIU8lW8U"
   },
   "outputs": [],
   "source": [
    "batch_size = 64\n",
    "\n",
    "torch.manual_seed(1)\n",
    "np.random.seed(1)\n",
    "\n",
    "## 데이터셋 생성\n",
    "mnist_dl = DataLoader(mnist_dataset, batch_size=batch_size,\n",
    "                      shuffle=True, drop_last=True)\n",
    "\n",
    "## 모델 생성\n",
    "gen_model = make_generator_network(\n",
    "    input_size=z_size,\n",
    "    num_hidden_layers=gen_hidden_layers,\n",
    "    num_hidden_units=gen_hidden_size,\n",
    "    num_output_units=np.prod(image_size)).to(device)\n",
    "\n",
    "disc_model = make_discriminator_network(\n",
    "    input_size=np.prod(image_size),\n",
    "    num_hidden_layers=disc_hidden_layers,\n",
    "    num_hidden_units=disc_hidden_size).to(device)\n",
    "\n",
    "## 손실 함수와 옵티마이저:\n",
    "loss_fn = nn.BCELoss()\n",
    "g_optimizer = torch.optim.Adam(gen_model.parameters())\n",
    "d_optimizer = torch.optim.Adam(disc_model.parameters())"
   ]
  },
  {
   "cell_type": "code",
   "execution_count": 24,
   "metadata": {
    "id": "nEom2vdplW8V"
   },
   "outputs": [],
   "source": [
    "## 판별자 훈련\n",
    "def d_train(x):\n",
    "    disc_model.zero_grad()\n",
    "\n",
    "    # 진짜 배치에서 판별자 훈련\n",
    "    batch_size = x.size(0)\n",
    "    x = x.view(batch_size, -1).to(device)\n",
    "    d_labels_real = torch.ones(batch_size, 1, device=device)\n",
    "\n",
    "    d_proba_real = disc_model(x)\n",
    "    d_loss_real = loss_fn(d_proba_real, d_labels_real)\n",
    "\n",
    "    # 가짜 배치에서 판별자 훈련\n",
    "    input_z = create_noise(batch_size, z_size, mode_z).to(device)\n",
    "    g_output = gen_model(input_z)\n",
    "\n",
    "    d_proba_fake = disc_model(g_output)\n",
    "    d_labels_fake = torch.zeros(batch_size, 1, device=device)\n",
    "    d_loss_fake = loss_fn(d_proba_fake, d_labels_fake)\n",
    "\n",
    "    # 그레이디언트 역전파와 판별자 파라미터 최적화\n",
    "    d_loss = d_loss_real + d_loss_fake\n",
    "    d_loss.backward()\n",
    "    d_optimizer.step()\n",
    "\n",
    "    return d_loss.data.item(), d_proba_real.detach(), d_proba_fake.detach()"
   ]
  },
  {
   "cell_type": "code",
   "execution_count": 25,
   "metadata": {
    "id": "iWZ216galW8V"
   },
   "outputs": [],
   "source": [
    "## 생성자 훈련\n",
    "def g_train(x):\n",
    "    gen_model.zero_grad()\n",
    "\n",
    "    batch_size = x.size(0)\n",
    "    input_z = create_noise(batch_size, z_size, mode_z).to(device)\n",
    "    g_labels_real = torch.ones(batch_size, 1, device=device)\n",
    "\n",
    "    g_output = gen_model(input_z)\n",
    "    d_proba_fake = disc_model(g_output)\n",
    "    g_loss = loss_fn(d_proba_fake, g_labels_real)\n",
    "\n",
    "    # 그레이디언트 역전파와 생성자 파라미터 최적화\n",
    "    g_loss.backward()\n",
    "    g_optimizer.step()\n",
    "\n",
    "    return g_loss.data.item()"
   ]
  },
  {
   "cell_type": "markdown",
   "metadata": {
    "id": "0fUu7ac2nBip"
   },
   "source": [
    "*아래 셀은 실행하는데 오래 걸립니다*"
   ]
  },
  {
   "cell_type": "code",
   "execution_count": 26,
   "metadata": {
    "colab": {
     "base_uri": "https://localhost:8080/"
    },
    "id": "EQhe5JvjlW8V",
    "outputId": "8c84ab69-2cff-4bde-b7dd-bad38bbc773b"
   },
   "outputs": [
    {
     "name": "stdout",
     "output_type": "stream",
     "text": [
      "에포크 001 | 평균 손실 >> 생성자/판별자 0.8919/0.9083 [판별자-진짜: 0.8042 판별자-가짜: 0.4729]\n",
      "에포크 002 | 평균 손실 >> 생성자/판별자 0.9119/1.1617 [판별자-진짜: 0.6016 판별자-가짜: 0.4403]\n",
      "에포크 003 | 평균 손실 >> 생성자/판별자 1.0379/1.1443 [판별자-진짜: 0.6042 판별자-가짜: 0.4090]\n",
      "에포크 004 | 평균 손실 >> 생성자/판별자 0.9875/1.1804 [판별자-진짜: 0.5950 판별자-가짜: 0.4159]\n",
      "에포크 005 | 평균 손실 >> 생성자/판별자 0.9415/1.2105 [판별자-진짜: 0.5795 판별자-가짜: 0.4232]\n",
      "에포크 006 | 평균 손실 >> 생성자/판별자 0.9363/1.2158 [판별자-진짜: 0.5702 판별자-가짜: 0.4224]\n",
      "에포크 007 | 평균 손실 >> 생성자/판별자 0.9266/1.2185 [판별자-진짜: 0.5737 판별자-가짜: 0.4257]\n",
      "에포크 008 | 평균 손실 >> 생성자/판별자 1.0838/1.1522 [판별자-진짜: 0.6010 판별자-가짜: 0.3965]\n",
      "에포크 009 | 평균 손실 >> 생성자/판별자 0.9978/1.1890 [판별자-진짜: 0.5899 판별자-가짜: 0.4138]\n",
      "에포크 010 | 평균 손실 >> 생성자/판별자 0.9578/1.1876 [판별자-진짜: 0.5889 판별자-가짜: 0.4175]\n",
      "에포크 011 | 평균 손실 >> 생성자/판별자 0.9176/1.2381 [판별자-진짜: 0.5673 판별자-가짜: 0.4313]\n",
      "에포크 012 | 평균 손실 >> 생성자/판별자 0.9321/1.2457 [판별자-진짜: 0.5659 판별자-가짜: 0.4306]\n",
      "에포크 013 | 평균 손실 >> 생성자/판별자 0.9390/1.2215 [판별자-진짜: 0.5751 판별자-가짜: 0.4243]\n",
      "에포크 014 | 평균 손실 >> 생성자/판별자 0.9796/1.2183 [판별자-진짜: 0.5797 판별자-가짜: 0.4245]\n",
      "에포크 015 | 평균 손실 >> 생성자/판별자 1.0078/1.1871 [판별자-진짜: 0.5898 판별자-가짜: 0.4144]\n",
      "에포크 016 | 평균 손실 >> 생성자/판별자 0.9538/1.2163 [판별자-진짜: 0.5781 판별자-가짜: 0.4236]\n",
      "에포크 017 | 평균 손실 >> 생성자/판별자 0.9088/1.2392 [판별자-진짜: 0.5692 판별자-가짜: 0.4338]\n",
      "에포크 018 | 평균 손실 >> 생성자/판별자 0.8825/1.2667 [판별자-진짜: 0.5574 판별자-가짜: 0.4418]\n",
      "에포크 019 | 평균 손실 >> 생성자/판별자 0.8422/1.2864 [판별자-진짜: 0.5475 판별자-가짜: 0.4527]\n",
      "에포크 020 | 평균 손실 >> 생성자/판별자 0.8897/1.2634 [판별자-진짜: 0.5573 판별자-가짜: 0.4412]\n",
      "에포크 021 | 평균 손실 >> 생성자/판별자 0.8470/1.2939 [판별자-진짜: 0.5444 판별자-가짜: 0.4530]\n",
      "에포크 022 | 평균 손실 >> 생성자/판별자 0.8367/1.2993 [판별자-진짜: 0.5418 판별자-가짜: 0.4555]\n",
      "에포크 023 | 평균 손실 >> 생성자/판별자 0.8459/1.2876 [판별자-진짜: 0.5468 판별자-가짜: 0.4543]\n",
      "에포크 024 | 평균 손실 >> 생성자/판별자 0.8370/1.3000 [판별자-진짜: 0.5410 판별자-가짜: 0.4553]\n",
      "에포크 025 | 평균 손실 >> 생성자/판별자 0.8044/1.3148 [판별자-진짜: 0.5348 판별자-가짜: 0.4644]\n",
      "에포크 026 | 평균 손실 >> 생성자/판별자 0.7907/1.3280 [판별자-진짜: 0.5291 판별자-가짜: 0.4691]\n",
      "에포크 027 | 평균 손실 >> 생성자/판별자 0.8033/1.3145 [판별자-진짜: 0.5351 판별자-가짜: 0.4658]\n",
      "에포크 028 | 평균 손실 >> 생성자/판별자 0.8102/1.3077 [판별자-진짜: 0.5377 판별자-가짜: 0.4624]\n",
      "에포크 029 | 평균 손실 >> 생성자/판별자 0.8173/1.3009 [판별자-진짜: 0.5428 판별자-가짜: 0.4618]\n",
      "에포크 030 | 평균 손실 >> 생성자/판별자 0.8325/1.3005 [판별자-진짜: 0.5417 판별자-가짜: 0.4576]\n",
      "에포크 031 | 평균 손실 >> 생성자/판별자 0.8584/1.2783 [판별자-진짜: 0.5523 판별자-가짜: 0.4500]\n",
      "에포크 032 | 평균 손실 >> 생성자/판별자 0.8460/1.2817 [판별자-진짜: 0.5505 판별자-가짜: 0.4526]\n",
      "에포크 033 | 평균 손실 >> 생성자/판별자 0.8361/1.2927 [판별자-진짜: 0.5454 판별자-가짜: 0.4556]\n",
      "에포크 034 | 평균 손실 >> 생성자/판별자 0.8152/1.3093 [판별자-진짜: 0.5378 판별자-가짜: 0.4627]\n",
      "에포크 035 | 평균 손실 >> 생성자/판별자 0.7955/1.3225 [판별자-진짜: 0.5321 판별자-가짜: 0.4678]\n",
      "에포크 036 | 평균 손실 >> 생성자/판별자 0.8157/1.3057 [판별자-진짜: 0.5388 판별자-가짜: 0.4613]\n",
      "에포크 037 | 평균 손실 >> 생성자/판별자 0.8153/1.3068 [판별자-진짜: 0.5385 판별자-가짜: 0.4610]\n",
      "에포크 038 | 평균 손실 >> 생성자/판별자 0.8057/1.3148 [판별자-진짜: 0.5354 판별자-가짜: 0.4648]\n",
      "에포크 039 | 평균 손실 >> 생성자/판별자 0.8039/1.3135 [판별자-진짜: 0.5351 판별자-가짜: 0.4639]\n",
      "에포크 040 | 평균 손실 >> 생성자/판별자 0.8159/1.3083 [판별자-진짜: 0.5384 판별자-가짜: 0.4612]\n",
      "에포크 041 | 평균 손실 >> 생성자/판별자 0.7773/1.3343 [판별자-진짜: 0.5260 판별자-가짜: 0.4719]\n",
      "에포크 042 | 평균 손실 >> 생성자/판별자 0.7697/1.3372 [판별자-진짜: 0.5247 판별자-가짜: 0.4747]\n",
      "에포크 043 | 평균 손실 >> 생성자/판별자 0.7700/1.3381 [판별자-진짜: 0.5241 판별자-가짜: 0.4755]\n",
      "에포크 044 | 평균 손실 >> 생성자/판별자 0.7988/1.3212 [판별자-진짜: 0.5330 판별자-가짜: 0.4677]\n",
      "에포크 045 | 평균 손실 >> 생성자/판별자 0.7937/1.3218 [판별자-진짜: 0.5323 판별자-가짜: 0.4686]\n",
      "에포크 046 | 평균 손실 >> 생성자/판별자 0.8017/1.3177 [판별자-진짜: 0.5346 판별자-가짜: 0.4667]\n",
      "에포크 047 | 평균 손실 >> 생성자/판별자 0.7999/1.3118 [판별자-진짜: 0.5374 판별자-가짜: 0.4661]\n",
      "에포크 048 | 평균 손실 >> 생성자/판별자 0.7852/1.3286 [판별자-진짜: 0.5288 판별자-가짜: 0.4700]\n",
      "에포크 049 | 평균 손실 >> 생성자/판별자 0.7821/1.3351 [판별자-진짜: 0.5255 판별자-가짜: 0.4721]\n",
      "에포크 050 | 평균 손실 >> 생성자/판별자 0.7820/1.3307 [판별자-진짜: 0.5278 판별자-가짜: 0.4713]\n",
      "에포크 051 | 평균 손실 >> 생성자/판별자 0.7834/1.3282 [판별자-진짜: 0.5285 판별자-가짜: 0.4703]\n",
      "에포크 052 | 평균 손실 >> 생성자/판별자 0.7994/1.3221 [판별자-진짜: 0.5327 판별자-가짜: 0.4681]\n",
      "에포크 053 | 평균 손실 >> 생성자/판별자 0.7905/1.3218 [판별자-진짜: 0.5324 판별자-가짜: 0.4692]\n",
      "에포크 054 | 평균 손실 >> 생성자/판별자 0.7821/1.3291 [판별자-진짜: 0.5284 판별자-가짜: 0.4713]\n",
      "에포크 055 | 평균 손실 >> 생성자/판별자 0.7880/1.3269 [판별자-진짜: 0.5299 판별자-가짜: 0.4697]\n",
      "에포크 056 | 평균 손실 >> 생성자/판별자 0.7817/1.3304 [판별자-진짜: 0.5285 판별자-가짜: 0.4725]\n",
      "에포크 057 | 평균 손실 >> 생성자/판별자 0.7909/1.3204 [판별자-진짜: 0.5327 판별자-가짜: 0.4685]\n",
      "에포크 058 | 평균 손실 >> 생성자/판별자 0.8094/1.3102 [판별자-진짜: 0.5372 판별자-가짜: 0.4635]\n",
      "에포크 059 | 평균 손실 >> 생성자/판별자 0.8069/1.3159 [판별자-진짜: 0.5344 판별자-가짜: 0.4650]\n",
      "에포크 060 | 평균 손실 >> 생성자/판별자 0.7934/1.3230 [판별자-진짜: 0.5321 판별자-가짜: 0.4692]\n",
      "에포크 061 | 평균 손실 >> 생성자/판별자 0.8066/1.3187 [판별자-진짜: 0.5338 판별자-가짜: 0.4655]\n",
      "에포크 062 | 평균 손실 >> 생성자/판별자 0.7909/1.3206 [판별자-진짜: 0.5330 판별자-가짜: 0.4681]\n",
      "에포크 063 | 평균 손실 >> 생성자/판별자 0.7918/1.3216 [판별자-진짜: 0.5315 판별자-가짜: 0.4682]\n",
      "에포크 064 | 평균 손실 >> 생성자/판별자 0.7969/1.3186 [판별자-진짜: 0.5342 판별자-가짜: 0.4676]\n",
      "에포크 065 | 평균 손실 >> 생성자/판별자 0.8006/1.3168 [판별자-진짜: 0.5340 판별자-가짜: 0.4659]\n",
      "에포크 066 | 평균 손실 >> 생성자/판별자 0.8016/1.3165 [판별자-진짜: 0.5350 판별자-가짜: 0.4664]\n",
      "에포크 067 | 평균 손실 >> 생성자/판별자 0.7882/1.3272 [판별자-진짜: 0.5302 판별자-가짜: 0.4701]\n",
      "에포크 068 | 평균 손실 >> 생성자/판별자 0.7998/1.3223 [판별자-진짜: 0.5322 판별자-가짜: 0.4678]\n",
      "에포크 069 | 평균 손실 >> 생성자/판별자 0.8054/1.3166 [판별자-진짜: 0.5344 판별자-가짜: 0.4644]\n",
      "에포크 070 | 평균 손실 >> 생성자/판별자 0.8038/1.3196 [판별자-진짜: 0.5332 판별자-가짜: 0.4662]\n",
      "에포크 071 | 평균 손실 >> 생성자/판별자 0.8220/1.3058 [판별자-진짜: 0.5401 판별자-가짜: 0.4606]\n",
      "에포크 072 | 평균 손실 >> 생성자/판별자 0.8159/1.3126 [판별자-진짜: 0.5361 판별자-가짜: 0.4620]\n",
      "에포크 073 | 평균 손실 >> 생성자/판별자 0.7945/1.3226 [판별자-진짜: 0.5319 판별자-가짜: 0.4684]\n",
      "에포크 074 | 평균 손실 >> 생성자/판별자 0.8090/1.3151 [판별자-진짜: 0.5356 판별자-가짜: 0.4646]\n",
      "에포크 075 | 평균 손실 >> 생성자/판별자 0.7850/1.3268 [판별자-진짜: 0.5301 판별자-가짜: 0.4707]\n",
      "에포크 076 | 평균 손실 >> 생성자/판별자 0.8067/1.3162 [판별자-진짜: 0.5348 판별자-가짜: 0.4647]\n",
      "에포크 077 | 평균 손실 >> 생성자/판별자 0.8103/1.3163 [판별자-진짜: 0.5344 판별자-가짜: 0.4647]\n",
      "에포크 078 | 평균 손실 >> 생성자/판별자 0.7963/1.3196 [판별자-진짜: 0.5343 판별자-가짜: 0.4680]\n",
      "에포크 079 | 평균 손실 >> 생성자/판별자 0.7920/1.3220 [판별자-진짜: 0.5322 판별자-가짜: 0.4687]\n",
      "에포크 080 | 평균 손실 >> 생성자/판별자 0.7931/1.3265 [판별자-진짜: 0.5301 판별자-가짜: 0.4684]\n",
      "에포크 081 | 평균 손실 >> 생성자/판별자 0.7927/1.3240 [판별자-진짜: 0.5307 판별자-가짜: 0.4686]\n",
      "에포크 082 | 평균 손실 >> 생성자/판별자 0.8249/1.3082 [판별자-진짜: 0.5398 판별자-가짜: 0.4622]\n",
      "에포크 083 | 평균 손실 >> 생성자/판별자 0.8067/1.3160 [판별자-진짜: 0.5350 판별자-가짜: 0.4649]\n",
      "에포크 084 | 평균 손실 >> 생성자/판별자 0.8131/1.3130 [판별자-진짜: 0.5365 판별자-가짜: 0.4630]\n",
      "에포크 085 | 평균 손실 >> 생성자/판별자 0.7948/1.3221 [판별자-진짜: 0.5313 판별자-가짜: 0.4682]\n",
      "에포크 086 | 평균 손실 >> 생성자/판별자 0.8045/1.3204 [판별자-진짜: 0.5335 판별자-가짜: 0.4664]\n",
      "에포크 087 | 평균 손실 >> 생성자/판별자 0.8204/1.3045 [판별자-진짜: 0.5397 판별자-가짜: 0.4605]\n",
      "에포크 088 | 평균 손실 >> 생성자/판별자 0.8138/1.3122 [판별자-진짜: 0.5369 판별자-가짜: 0.4631]\n",
      "에포크 089 | 평균 손실 >> 생성자/판별자 0.8009/1.3192 [판별자-진짜: 0.5339 판별자-가짜: 0.4664]\n",
      "에포크 090 | 평균 손실 >> 생성자/판별자 0.7988/1.3265 [판별자-진짜: 0.5297 판별자-가짜: 0.4678]\n",
      "에포크 091 | 평균 손실 >> 생성자/판별자 0.7978/1.3190 [판별자-진짜: 0.5346 판별자-가짜: 0.4681]\n",
      "에포크 092 | 평균 손실 >> 생성자/판별자 0.7937/1.3227 [판별자-진짜: 0.5318 판별자-가짜: 0.4683]\n",
      "에포크 093 | 평균 손실 >> 생성자/판별자 0.8055/1.3160 [판별자-진짜: 0.5356 판별자-가짜: 0.4662]\n",
      "에포크 094 | 평균 손실 >> 생성자/판별자 0.8259/1.3035 [판별자-진짜: 0.5418 판별자-가짜: 0.4611]\n",
      "에포크 095 | 평균 손실 >> 생성자/판별자 0.8239/1.3046 [판별자-진짜: 0.5401 판별자-가짜: 0.4601]\n",
      "에포크 096 | 평균 손실 >> 생성자/판별자 0.8161/1.3108 [판별자-진짜: 0.5374 판별자-가짜: 0.4618]\n",
      "에포크 097 | 평균 손실 >> 생성자/판별자 0.8056/1.3185 [판별자-진짜: 0.5336 판별자-가짜: 0.4648]\n",
      "에포크 098 | 평균 손실 >> 생성자/판별자 0.8096/1.3135 [판별자-진짜: 0.5366 판별자-가짜: 0.4636]\n",
      "에포크 099 | 평균 손실 >> 생성자/판별자 0.8217/1.3091 [판별자-진짜: 0.5389 판별자-가짜: 0.4627]\n",
      "에포크 100 | 평균 손실 >> 생성자/판별자 0.8191/1.3119 [판별자-진짜: 0.5374 판별자-가짜: 0.4624]\n"
     ]
    }
   ],
   "source": [
    "fixed_z = create_noise(batch_size, z_size, mode_z).to(device)\n",
    "\n",
    "def create_samples(g_model, input_z):\n",
    "    g_output = g_model(input_z)\n",
    "    images = torch.reshape(g_output, (batch_size, *image_size))\n",
    "    return (images+1)/2.0\n",
    "\n",
    "epoch_samples = []\n",
    "\n",
    "all_d_losses = []\n",
    "all_g_losses = []\n",
    "\n",
    "all_d_real = []\n",
    "all_d_fake = []\n",
    "\n",
    "num_epochs = 100\n",
    "torch.manual_seed(1)\n",
    "for epoch in range(1, num_epochs+1):\n",
    "    d_losses, g_losses = [], []\n",
    "    d_vals_real, d_vals_fake = [], []\n",
    "    for i, (x, _) in enumerate(mnist_dl):\n",
    "        d_loss, d_proba_real, d_proba_fake = d_train(x)\n",
    "        d_losses.append(d_loss)\n",
    "        g_losses.append(g_train(x))\n",
    "\n",
    "        d_vals_real.append(d_proba_real.mean().cpu())\n",
    "        d_vals_fake.append(d_proba_fake.mean().cpu())\n",
    "\n",
    "    all_d_losses.append(torch.tensor(d_losses).mean())\n",
    "    all_g_losses.append(torch.tensor(g_losses).mean())\n",
    "    all_d_real.append(torch.tensor(d_vals_real).mean())\n",
    "    all_d_fake.append(torch.tensor(d_vals_fake).mean())\n",
    "    print(f'에포크 {epoch:03d} | 평균 손실 >>'\n",
    "          f' 생성자/판별자 {all_g_losses[-1]:.4f}/{all_d_losses[-1]:.4f}'\n",
    "          f' [판별자-진짜: {all_d_real[-1]:.4f} 판별자-가짜: {all_d_fake[-1]:.4f}]')\n",
    "    epoch_samples.append(\n",
    "        create_samples(gen_model, fixed_z).detach().cpu().numpy())"
   ]
  },
  {
   "cell_type": "code",
   "execution_count": 27,
   "metadata": {
    "colab": {
     "base_uri": "https://localhost:8080/",
     "height": 434
    },
    "id": "O8cFP7I2lW8V",
    "outputId": "ab6f49fa-d0ab-45d3-ef47-8466717696ec"
   },
   "outputs": [
    {
     "data": {
      "image/png": "[encoded data removed]",
      "text/plain": [
       "<Figure size 1152x432 with 2 Axes>"
      ]
     },
     "metadata": {
      "needs_background": "light"
     },
     "output_type": "display_data"
    }
   ],
   "source": [
    "import itertools\n",
    "\n",
    "\n",
    "fig = plt.figure(figsize=(16, 6))\n",
    "\n",
    "## 손실 그래프\n",
    "ax = fig.add_subplot(1, 2, 1)\n",
    "\n",
    "plt.plot(all_g_losses, label='Generator loss')\n",
    "half_d_losses = [all_d_loss/2 for all_d_loss in all_d_losses]\n",
    "plt.plot(half_d_losses, label='Discriminator loss')\n",
    "plt.legend(fontsize=20)\n",
    "ax.set_xlabel('Iteration', size=15)\n",
    "ax.set_ylabel('Loss', size=15)\n",
    "\n",
    "## 판별자 출력의 그래프\n",
    "ax = fig.add_subplot(1, 2, 2)\n",
    "plt.plot(all_d_real, label=r'Real: $D(\\mathbf{x})$')\n",
    "plt.plot(all_d_fake, label=r'Fake: $D(G(\\mathbf{z}))$')\n",
    "plt.legend(fontsize=20)\n",
    "ax.set_xlabel('Iteration', size=15)\n",
    "ax.set_ylabel('Discriminator output', size=15)\n",
    "\n",
    "#plt.savefig('figures/ch17-gan-learning-curve.pdf')\n",
    "plt.show()"
   ]
  },
  {
   "cell_type": "code",
   "execution_count": 28,
   "metadata": {
    "id": "GV8FP2YMlW8V"
   },
   "outputs": [
    {
     "data": {
      "image/png": "[encoded data removed]",
      "text/plain": [
       "<Figure size 720x1008 with 30 Axes>"
      ]
     },
     "metadata": {},
     "output_type": "display_data"
    }
   ],
   "source": [
    "selected_epochs = [1, 2, 4, 10, 50, 100]\n",
    "fig = plt.figure(figsize=(10, 14))\n",
    "for i,e in enumerate(selected_epochs):\n",
    "    for j in range(5):\n",
    "        ax = fig.add_subplot(6, 5, i*5+j+1)\n",
    "        ax.set_xticks([])\n",
    "        ax.set_yticks([])\n",
    "        if j == 0:\n",
    "            ax.text(\n",
    "                -0.06, 0.5, f'Epoch {e}',\n",
    "                rotation=90, size=18, color='red',\n",
    "                horizontalalignment='right',\n",
    "                verticalalignment='center',\n",
    "                transform=ax.transAxes)\n",
    "\n",
    "        image = epoch_samples[e-1][j]\n",
    "        ax.imshow(image, cmap='gray_r')\n",
    "\n",
    "#plt.savefig('figures/ch17-vanila-gan-samples.pdf')\n",
    "plt.show()"
   ]
  },
  {
   "cell_type": "markdown",
   "metadata": {
    "id": "6g1-g-f7lW8V"
   },
   "source": [
    "<br>\n",
    "<br>\n",
    "\n",
    "----"
   ]
  },
  {
   "cell_type": "code",
   "execution_count": 29,
   "metadata": {
    "id": "cfNvmjp8lW8W"
   },
   "outputs": [],
   "source": [
    "import math\n",
    "\n",
    "\n",
    "def distance(X, Y, sqrt):\n",
    "    nX = X.size(0)\n",
    "    nY = Y.size(0)\n",
    "    X = X.view(nX,-1).cuda()\n",
    "    X2 = (X*X).sum(1).resize_(nX,1)\n",
    "    Y = Y.view(nY,-1).cuda()\n",
    "    Y2 = (Y*Y).sum(1).resize_(nY,1)\n",
    "\n",
    "    M = torch.zeros(nX, nY)\n",
    "    M.copy_(X2.expand(nX,nY) + Y2.expand(nY,nX).transpose(0,1) - 2*torch.mm(X,Y.transpose(0,1)))\n",
    "\n",
    "    del X, X2, Y, Y2\n",
    "\n",
    "    if sqrt:\n",
    "        M = ((M+M.abs())/2).sqrt()\n",
    "\n",
    "    return M"
   ]
  },
  {
   "cell_type": "code",
   "execution_count": 30,
   "metadata": {
    "id": "3yrKDIhUlW8W"
   },
   "outputs": [],
   "source": [
    "def mmd(Mxx, Mxy, Myy, sigma) :\n",
    "    scale = Mxx.mean()\n",
    "    Mxx = torch.exp(-Mxx/(scale*2*sigma*sigma))\n",
    "    Mxy = torch.exp(-Mxy/(scale*2*sigma*sigma))\n",
    "    Myy = torch.exp(-Myy/(scale*2*sigma*sigma))\n",
    "    a = Mxx.mean()+Myy.mean()-2*Mxy.mean()\n",
    "    mmd = math.sqrt(max(a, 0))\n",
    "\n",
    "    return mmd"
   ]
  },
  {
   "cell_type": "code",
   "execution_count": 31,
   "metadata": {
    "id": "WgUL3iy7lW8W"
   },
   "outputs": [],
   "source": [
    "def compute_score(fake, real , k=1, sigma=1, sqrt=True):\n",
    "\n",
    "    Mxx = distance(real, real, False)\n",
    "    Mxy = distance(real, fake, False)\n",
    "    Myy = distance(fake, fake, False)\n",
    "\n",
    "\n",
    "    print(mmd(Mxx, Mxy, Myy, sigma))"
   ]
  },
  {
   "cell_type": "code",
   "execution_count": 32,
   "metadata": {
    "id": "M0fTdp1slW8W"
   },
   "outputs": [],
   "source": [
    "whole_dl = DataLoader(mnist_dataset, batch_size=10000,\n",
    "                      shuffle=True, drop_last=True)"
   ]
  },
  {
   "cell_type": "code",
   "execution_count": 33,
   "metadata": {
    "id": "64M8VY8SlW8W"
   },
   "outputs": [],
   "source": [
    "real_image = next(iter(whole_dl))[0]"
   ]
  },
  {
   "cell_type": "code",
   "execution_count": 34,
   "metadata": {
    "colab": {
     "base_uri": "https://localhost:8080/"
    },
    "id": "KPvHFH3QlW8W",
    "outputId": "5549f75b-04d7-4a1a-cbb3-6533c711d30f"
   },
   "outputs": [
    {
     "name": "stdout",
     "output_type": "stream",
     "text": [
      "0.896277210508861\n"
     ]
    }
   ],
   "source": [
    "compute_score(torch.from_numpy(epoch_samples[-1]), real_image)"
   ]
  }
 ],
 "metadata": {
  "accelerator": "GPU",
  "colab": {
   "name": "ch17-basic-GAN.ipynb",
   "provenance": []
  },
  "kernelspec": {
   "display_name": "Python 3 (ipykernel)",
   "language": "python",
   "name": "python3"
  },
  "language_info": {
   "codemirror_mode": {
    "name": "ipython",
    "version": 3
   },
   "file_extension": ".py",
   "mimetype": "text/x-python",
   "name": "python",
   "nbconvert_exporter": "python",
   "pygments_lexer": "ipython3",
   "version": "3.8.7"
  }
 },
 "nbformat": 4,
 "nbformat_minor": 0
}

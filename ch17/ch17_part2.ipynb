{
  "cells": [
    {
      "cell_type": "markdown",
      "metadata": {
        "tags": [],
        "id": "Gwz8xXxEOJ9M"
      },
      "source": [
        "# 머신 러닝 교과서 - 파이토치편"
      ]
    },
    {
      "cell_type": "markdown",
      "metadata": {
        "id": "CzmYX4wzOJ9O"
      },
      "source": [
        "<table align=\"left\"><tr><td>\n",
        "<a href=\"https://colab.research.google.com/github/rickiepark/ml-with-pytorch/blob/main/ch17/ch17_part2.ipynb\" target=\"_parent\"><img src=\"https://colab.research.google.com/assets/colab-badge.svg\" alt=\"코랩에서 실행하기\"/></a>\n",
        "</td></tr></table>"
      ]
    },
    {
      "cell_type": "markdown",
      "metadata": {
        "id": "mo_o6cHzOJ9O"
      },
      "source": [
        "## 패키지 버전 체크"
      ]
    },
    {
      "cell_type": "markdown",
      "metadata": {
        "id": "N7HVlXT5OJ9O"
      },
      "source": [
        "check_packages.py 스크립트에서 로드하기 위해 폴더를 추가합니다:"
      ]
    },
    {
      "cell_type": "code",
      "execution_count": 1,
      "metadata": {
        "id": "r_rVCmUxOJ9P",
        "outputId": "eb8d7689-8ae4-4383-b3ec-b0f2e9e3bf6a",
        "colab": {
          "base_uri": "https://localhost:8080/"
        }
      },
      "outputs": [
        {
          "output_type": "stream",
          "name": "stdout",
          "text": [
            "--2023-10-19 09:16:30--  https://raw.githubusercontent.com/rickiepark/ml-with-pytorch/main/python_environment_check.py\n",
            "Resolving raw.githubusercontent.com (raw.githubusercontent.com)... 185.199.108.133, 185.199.109.133, 185.199.110.133, ...\n",
            "Connecting to raw.githubusercontent.com (raw.githubusercontent.com)|185.199.108.133|:443... connected.\n",
            "HTTP request sent, awaiting response... 200 OK\n",
            "Length: 1629 (1.6K) [text/plain]\n",
            "Saving to: ‘python_environment_check.py’\n",
            "\n",
            "\r          python_en   0%[                    ]       0  --.-KB/s               \rpython_environment_ 100%[===================>]   1.59K  --.-KB/s    in 0s      \n",
            "\n",
            "2023-10-19 09:16:30 (21.5 MB/s) - ‘python_environment_check.py’ saved [1629/1629]\n",
            "\n"
          ]
        }
      ],
      "source": [
        "import sys\n",
        "\n",
        "# 코랩의 경우 깃허브 저장소로부터 python_environment_check.py를 다운로드 합니다.\n",
        "if 'google.colab' in sys.modules:\n",
        "    !wget https://raw.githubusercontent.com/rickiepark/ml-with-pytorch/main/python_environment_check.py\n",
        "else:\n",
        "    sys.path.insert(0, '..')"
      ]
    },
    {
      "cell_type": "markdown",
      "metadata": {
        "id": "mQxoaRPnOJ9P"
      },
      "source": [
        "권장 패키지 버전을 확인하세요:"
      ]
    },
    {
      "cell_type": "code",
      "execution_count": 2,
      "metadata": {
        "id": "y1mOsNYUOJ9P",
        "outputId": "472a4f7b-b491-4683-eb2f-0e719db3f66f",
        "colab": {
          "base_uri": "https://localhost:8080/"
        }
      },
      "outputs": [
        {
          "output_type": "stream",
          "name": "stdout",
          "text": [
            "[OK] Your Python version is 3.10.12 (main, Jun 11 2023, 05:26:28) [GCC 11.4.0]\n",
            "[OK] torch 2.0.1+cu118\n",
            "[OK] torchvision 0.15.2+cu118\n",
            "[OK] numpy 1.23.5\n",
            "[OK] matplotlib 3.7.1\n"
          ]
        }
      ],
      "source": [
        "from python_environment_check import check_packages\n",
        "\n",
        "\n",
        "d = {\n",
        "    'torch': '1.8.0',\n",
        "    'torchvision': '0.9.0',\n",
        "    'numpy': '1.21.2',\n",
        "    'matplotlib': '3.4.3',\n",
        "}\n",
        "\n",
        "check_packages(d)"
      ]
    },
    {
      "cell_type": "markdown",
      "metadata": {
        "id": "6DRyYm_YOJ9Q"
      },
      "source": [
        "# 새로운 데이터 합성을 위한 생성적 적대 신경망 (파트 2/2)"
      ]
    },
    {
      "cell_type": "markdown",
      "metadata": {
        "id": "376Ws-r6OJ9Q"
      },
      "source": [
        "**목차**\n",
        "\n",
        "- 합성곱 GAN과 바서슈타인 GAN으로 합성 이미지 품질 높이기\n",
        "  - 전치 합성곱\n",
        "  - 배치 정규화\n",
        "  - 생성자와 판별자 구현\n",
        "  - 두 분포 사이의 거리 측정\n",
        "  - GAN에 EM 거리 사용\n",
        "  - 그레이디언트 페널티\n",
        "  - WGAN-GP로 DCGAN 모델 훈련\n",
        "  - 모드 붕괴\n",
        "  - 다른 GAN 애플리케이션\n",
        "- 요약"
      ]
    },
    {
      "cell_type": "code",
      "execution_count": 3,
      "metadata": {
        "id": "hQf-BuAXOJ9Q"
      },
      "outputs": [],
      "source": [
        "from IPython.display import Image\n",
        "%matplotlib inline"
      ]
    },
    {
      "cell_type": "markdown",
      "metadata": {
        "id": "zvJzuqO8OJ9Q"
      },
      "source": [
        "# 합성곱 GAN과 바서슈타인 GAN으로 합성 이미지 품질 높이기\n"
      ]
    },
    {
      "cell_type": "markdown",
      "metadata": {
        "id": "jEDbJTBJOJ9Q"
      },
      "source": [
        "## 전치 합성곱\n"
      ]
    },
    {
      "cell_type": "code",
      "execution_count": 4,
      "metadata": {
        "id": "tqfZXiZwOJ9Q",
        "outputId": "60bb677a-187a-4268-d97b-f2ca4d0b8d39",
        "colab": {
          "base_uri": "https://localhost:8080/",
          "height": 269
        }
      },
      "outputs": [
        {
          "output_type": "execute_result",
          "data": {
            "text/html": [
              "<img src=\"https://raw.githubusercontent.com/rickiepark/ml-with-pytorch/main/ch17/figures/17_09.png\" width=\"700\"/>"
            ],
            "text/plain": [
              "<IPython.core.display.Image object>"
            ]
          },
          "metadata": {},
          "execution_count": 4
        }
      ],
      "source": [
        "Image(url='https://raw.githubusercontent.com/rickiepark/ml-with-pytorch/main/ch17/figures/17_09.png', width=700)"
      ]
    },
    {
      "cell_type": "code",
      "execution_count": 5,
      "metadata": {
        "id": "hGKPVG6kOJ9R",
        "outputId": "2245273b-9ff6-45fc-c2af-7ef5b307439c",
        "colab": {
          "base_uri": "https://localhost:8080/",
          "height": 362
        }
      },
      "outputs": [
        {
          "output_type": "execute_result",
          "data": {
            "text/html": [
              "<img src=\"https://raw.githubusercontent.com/rickiepark/ml-with-pytorch/main/ch17/figures/17_10.png\" width=\"700\"/>"
            ],
            "text/plain": [
              "<IPython.core.display.Image object>"
            ]
          },
          "metadata": {},
          "execution_count": 5
        }
      ],
      "source": [
        "Image(url='https://raw.githubusercontent.com/rickiepark/ml-with-pytorch/main/ch17/figures/17_10.png', width=700)"
      ]
    },
    {
      "cell_type": "markdown",
      "metadata": {
        "id": "C5hAXDKSOJ9R"
      },
      "source": [
        "## 배치 정규화\n"
      ]
    },
    {
      "cell_type": "code",
      "execution_count": 6,
      "metadata": {
        "id": "vJEcwj0jOJ9R",
        "outputId": "d166c582-12bd-45c6-bc73-ce75b1202804",
        "colab": {
          "base_uri": "https://localhost:8080/",
          "height": 480
        }
      },
      "outputs": [
        {
          "output_type": "execute_result",
          "data": {
            "text/html": [
              "<img src=\"https://raw.githubusercontent.com/rickiepark/ml-with-pytorch/main/ch17/figures/17_11.png\" width=\"700\"/>"
            ],
            "text/plain": [
              "<IPython.core.display.Image object>"
            ]
          },
          "metadata": {},
          "execution_count": 6
        }
      ],
      "source": [
        "Image(url='https://raw.githubusercontent.com/rickiepark/ml-with-pytorch/main/ch17/figures/17_11.png', width=700)"
      ]
    },
    {
      "cell_type": "markdown",
      "metadata": {
        "id": "9lu1cSIvOJ9R"
      },
      "source": [
        "## 생성자와 판별자 구현\n"
      ]
    },
    {
      "cell_type": "code",
      "execution_count": 7,
      "metadata": {
        "id": "UxR9ODSjOJ9R",
        "outputId": "3f36b3be-b08b-4de9-f3b4-acc37f6e6008",
        "colab": {
          "base_uri": "https://localhost:8080/",
          "height": 332
        }
      },
      "outputs": [
        {
          "output_type": "execute_result",
          "data": {
            "text/html": [
              "<img src=\"https://raw.githubusercontent.com/rickiepark/ml-with-pytorch/main/ch17/figures/17_12.png\" width=\"700\"/>"
            ],
            "text/plain": [
              "<IPython.core.display.Image object>"
            ]
          },
          "metadata": {},
          "execution_count": 7
        }
      ],
      "source": [
        "Image(url='https://raw.githubusercontent.com/rickiepark/ml-with-pytorch/main/ch17/figures/17_12.png', width=700)"
      ]
    },
    {
      "cell_type": "code",
      "execution_count": 8,
      "metadata": {
        "id": "9N-G36BnOJ9R",
        "outputId": "0acbf4ab-3266-48ef-cb6c-8ddae86afd5f",
        "colab": {
          "base_uri": "https://localhost:8080/",
          "height": 328
        }
      },
      "outputs": [
        {
          "output_type": "execute_result",
          "data": {
            "text/html": [
              "<img src=\"https://raw.githubusercontent.com/rickiepark/ml-with-pytorch/main/ch17/figures/17_13.png\" width=\"700\"/>"
            ],
            "text/plain": [
              "<IPython.core.display.Image object>"
            ]
          },
          "metadata": {},
          "execution_count": 8
        }
      ],
      "source": [
        "Image(url='https://raw.githubusercontent.com/rickiepark/ml-with-pytorch/main/ch17/figures/17_13.png', width=700)"
      ]
    },
    {
      "cell_type": "code",
      "execution_count": 9,
      "metadata": {
        "id": "XnOWggQN3RbT"
      },
      "outputs": [],
      "source": [
        "#from google.colab import drive\n",
        "#drive.mount('/content/drive/')"
      ]
    },
    {
      "cell_type": "code",
      "execution_count": 10,
      "metadata": {
        "colab": {
          "base_uri": "https://localhost:8080/"
        },
        "id": "O9XN3qSZ6Kbr",
        "outputId": "c344f001-5908-4d2c-e9c1-a1b2c4dcf9ca"
      },
      "outputs": [
        {
          "output_type": "stream",
          "name": "stdout",
          "text": [
            "2.0.1+cu118\n",
            "GPU 사용: True\n"
          ]
        }
      ],
      "source": [
        "import torch\n",
        "\n",
        "\n",
        "print(torch.__version__)\n",
        "print(\"GPU 사용:\", torch.cuda.is_available())\n",
        "\n",
        "if torch.cuda.is_available():\n",
        "    device = torch.device(\"cuda:0\")\n",
        "else:\n",
        "    device = \"cpu\""
      ]
    },
    {
      "cell_type": "code",
      "execution_count": 11,
      "metadata": {
        "id": "VXasfQIW3XeR"
      },
      "outputs": [],
      "source": [
        "import torch.nn as nn\n",
        "import numpy as np\n",
        "\n",
        "import matplotlib.pyplot as plt\n",
        "%matplotlib inline"
      ]
    },
    {
      "cell_type": "code",
      "execution_count": 13,
      "metadata": {
        "id": "qoR8gVcrOJ9S",
        "outputId": "78ba0a07-c9e7-4e05-d5e7-a7cc46bf967d",
        "colab": {
          "base_uri": "https://localhost:8080/"
        }
      },
      "outputs": [
        {
          "output_type": "stream",
          "name": "stdout",
          "text": [
            "Downloading http://yann.lecun.com/exdb/mnist/train-images-idx3-ubyte.gz\n",
            "Downloading http://yann.lecun.com/exdb/mnist/train-images-idx3-ubyte.gz to ./MNIST/raw/train-images-idx3-ubyte.gz\n"
          ]
        },
        {
          "output_type": "stream",
          "name": "stderr",
          "text": [
            "100%|██████████| 9912422/9912422 [00:00<00:00, 38489257.67it/s]\n"
          ]
        },
        {
          "output_type": "stream",
          "name": "stdout",
          "text": [
            "Extracting ./MNIST/raw/train-images-idx3-ubyte.gz to ./MNIST/raw\n",
            "\n",
            "Downloading http://yann.lecun.com/exdb/mnist/train-labels-idx1-ubyte.gz\n",
            "Downloading http://yann.lecun.com/exdb/mnist/train-labels-idx1-ubyte.gz to ./MNIST/raw/train-labels-idx1-ubyte.gz\n"
          ]
        },
        {
          "output_type": "stream",
          "name": "stderr",
          "text": [
            "100%|██████████| 28881/28881 [00:00<00:00, 38189058.58it/s]\n"
          ]
        },
        {
          "output_type": "stream",
          "name": "stdout",
          "text": [
            "Extracting ./MNIST/raw/train-labels-idx1-ubyte.gz to ./MNIST/raw\n",
            "\n",
            "Downloading http://yann.lecun.com/exdb/mnist/t10k-images-idx3-ubyte.gz\n",
            "Downloading http://yann.lecun.com/exdb/mnist/t10k-images-idx3-ubyte.gz to ./MNIST/raw/t10k-images-idx3-ubyte.gz\n"
          ]
        },
        {
          "output_type": "stream",
          "name": "stderr",
          "text": [
            "100%|██████████| 1648877/1648877 [00:00<00:00, 65257186.77it/s]"
          ]
        },
        {
          "output_type": "stream",
          "name": "stdout",
          "text": [
            "Extracting ./MNIST/raw/t10k-images-idx3-ubyte.gz to ./MNIST/raw\n"
          ]
        },
        {
          "output_type": "stream",
          "name": "stderr",
          "text": [
            "\n"
          ]
        },
        {
          "output_type": "stream",
          "name": "stdout",
          "text": [
            "\n",
            "Downloading http://yann.lecun.com/exdb/mnist/t10k-labels-idx1-ubyte.gz\n",
            "Downloading http://yann.lecun.com/exdb/mnist/t10k-labels-idx1-ubyte.gz to ./MNIST/raw/t10k-labels-idx1-ubyte.gz\n"
          ]
        },
        {
          "output_type": "stream",
          "name": "stderr",
          "text": [
            "100%|██████████| 4542/4542 [00:00<00:00, 7865618.81it/s]\n"
          ]
        },
        {
          "output_type": "stream",
          "name": "stdout",
          "text": [
            "Extracting ./MNIST/raw/t10k-labels-idx1-ubyte.gz to ./MNIST/raw\n",
            "\n"
          ]
        }
      ],
      "source": [
        "import torchvision\n",
        "from torchvision import transforms\n",
        "\n",
        "\n",
        "image_path = './'\n",
        "transform = transforms.Compose([\n",
        "    transforms.ToTensor(),\n",
        "    transforms.Normalize(mean=(0.5), std=(0.5))\n",
        "])\n",
        "mnist_dataset = torchvision.datasets.MNIST(root=image_path,\n",
        "                                           train=True,\n",
        "                                           transform=transform,\n",
        "                                           download=True)\n",
        "\n",
        "batch_size = 64\n",
        "\n",
        "torch.manual_seed(1)\n",
        "np.random.seed(1)\n",
        "\n",
        "## 데이터셋 준비\n",
        "from torch.utils.data import DataLoader\n",
        "mnist_dl = DataLoader(mnist_dataset, batch_size=batch_size,\n",
        "                      shuffle=True, drop_last=True)"
      ]
    },
    {
      "cell_type": "code",
      "execution_count": null,
      "metadata": {
        "id": "tifJnQcCOJ9S"
      },
      "outputs": [],
      "source": [
        "def make_generator_network(input_size, n_filters):\n",
        "    model = nn.Sequential(\n",
        "        nn.ConvTranspose2d(input_size, n_filters*4, 4, 1, 0,\n",
        "                           bias=False),\n",
        "        nn.BatchNorm2d(n_filters*4),\n",
        "        nn.LeakyReLU(0.2),\n",
        "\n",
        "        nn.ConvTranspose2d(n_filters*4, n_filters*2, 3, 2, 1, bias=False),\n",
        "        nn.BatchNorm2d(n_filters*2),\n",
        "        nn.LeakyReLU(0.2),\n",
        "\n",
        "        nn.ConvTranspose2d(n_filters*2, n_filters, 4, 2, 1, bias=False),\n",
        "        nn.BatchNorm2d(n_filters),\n",
        "        nn.LeakyReLU(0.2),\n",
        "\n",
        "        nn.ConvTranspose2d(n_filters, 1, 4, 2, 1, bias=False),\n",
        "        nn.Tanh())\n",
        "    return model\n",
        "\n",
        "class Discriminator(nn.Module):\n",
        "    def __init__(self, n_filters):\n",
        "        super().__init__()\n",
        "        self.network = nn.Sequential(\n",
        "            nn.Conv2d(1, n_filters, 4, 2, 1, bias=False),\n",
        "            nn.LeakyReLU(0.2),\n",
        "\n",
        "            nn.Conv2d(n_filters, n_filters*2, 4, 2, 1, bias=False),\n",
        "            nn.BatchNorm2d(n_filters * 2),\n",
        "            nn.LeakyReLU(0.2),\n",
        "\n",
        "            nn.Conv2d(n_filters*2, n_filters*4, 3, 2, 1, bias=False),\n",
        "            nn.BatchNorm2d(n_filters*4),\n",
        "            nn.LeakyReLU(0.2),\n",
        "\n",
        "            nn.Conv2d(n_filters*4, 1, 4, 1, 0, bias=False),\n",
        "            nn.Sigmoid())\n",
        "\n",
        "    def forward(self, input):\n",
        "        output = self.network(input)\n",
        "        return output.view(-1, 1).squeeze(0)"
      ]
    },
    {
      "cell_type": "code",
      "execution_count": null,
      "metadata": {
        "id": "1uGjU89lOJ9S",
        "outputId": "371658b4-c526-41e7-8b03-22ad0931a537"
      },
      "outputs": [
        {
          "name": "stdout",
          "output_type": "stream",
          "text": [
            "Sequential(\n",
            "  (0): ConvTranspose2d(100, 128, kernel_size=(4, 4), stride=(1, 1), bias=False)\n",
            "  (1): BatchNorm2d(128, eps=1e-05, momentum=0.1, affine=True, track_running_stats=True)\n",
            "  (2): LeakyReLU(negative_slope=0.2)\n",
            "  (3): ConvTranspose2d(128, 64, kernel_size=(3, 3), stride=(2, 2), padding=(1, 1), bias=False)\n",
            "  (4): BatchNorm2d(64, eps=1e-05, momentum=0.1, affine=True, track_running_stats=True)\n",
            "  (5): LeakyReLU(negative_slope=0.2)\n",
            "  (6): ConvTranspose2d(64, 32, kernel_size=(4, 4), stride=(2, 2), padding=(1, 1), bias=False)\n",
            "  (7): BatchNorm2d(32, eps=1e-05, momentum=0.1, affine=True, track_running_stats=True)\n",
            "  (8): LeakyReLU(negative_slope=0.2)\n",
            "  (9): ConvTranspose2d(32, 1, kernel_size=(4, 4), stride=(2, 2), padding=(1, 1), bias=False)\n",
            "  (10): Tanh()\n",
            ")\n",
            "Discriminator(\n",
            "  (network): Sequential(\n",
            "    (0): Conv2d(1, 32, kernel_size=(4, 4), stride=(2, 2), padding=(1, 1), bias=False)\n",
            "    (1): LeakyReLU(negative_slope=0.2)\n",
            "    (2): Conv2d(32, 64, kernel_size=(4, 4), stride=(2, 2), padding=(1, 1), bias=False)\n",
            "    (3): BatchNorm2d(64, eps=1e-05, momentum=0.1, affine=True, track_running_stats=True)\n",
            "    (4): LeakyReLU(negative_slope=0.2)\n",
            "    (5): Conv2d(64, 128, kernel_size=(3, 3), stride=(2, 2), padding=(1, 1), bias=False)\n",
            "    (6): BatchNorm2d(128, eps=1e-05, momentum=0.1, affine=True, track_running_stats=True)\n",
            "    (7): LeakyReLU(negative_slope=0.2)\n",
            "    (8): Conv2d(128, 1, kernel_size=(4, 4), stride=(1, 1), bias=False)\n",
            "    (9): Sigmoid()\n",
            "  )\n",
            ")\n"
          ]
        }
      ],
      "source": [
        "z_size = 100\n",
        "image_size = (28, 28)\n",
        "n_filters = 32\n",
        "gen_model = make_generator_network(z_size, n_filters).to(device)\n",
        "print(gen_model)\n",
        "disc_model = Discriminator(n_filters).to(device)\n",
        "print(disc_model)"
      ]
    },
    {
      "cell_type": "code",
      "execution_count": null,
      "metadata": {
        "id": "79NDaf-DOJ9T"
      },
      "outputs": [],
      "source": [
        "## 손실 함수와 옵티마이저:\n",
        "loss_fn = nn.BCELoss()\n",
        "g_optimizer = torch.optim.Adam(gen_model.parameters(), 0.0003)\n",
        "d_optimizer = torch.optim.Adam(disc_model.parameters(), 0.0002)"
      ]
    },
    {
      "cell_type": "code",
      "execution_count": null,
      "metadata": {
        "id": "EIxNT64pOJ9T"
      },
      "outputs": [],
      "source": [
        "def create_noise(batch_size, z_size, mode_z):\n",
        "    if mode_z == 'uniform':\n",
        "        input_z = torch.rand(batch_size, z_size, 1, 1)*2 - 1\n",
        "    elif mode_z == 'normal':\n",
        "        input_z = torch.randn(batch_size, z_size, 1, 1)\n",
        "    return input_z"
      ]
    },
    {
      "cell_type": "code",
      "execution_count": null,
      "metadata": {
        "id": "IMKERmgvOJ9T"
      },
      "outputs": [],
      "source": [
        "## 판별자 훈련\n",
        "def d_train(x):\n",
        "    disc_model.zero_grad()\n",
        "\n",
        "    # 진짜 배치에서 판별자 훈련\u001f\n",
        "    batch_size = x.size(0)\n",
        "    x = x.to(device)\n",
        "    d_labels_real = torch.ones(batch_size, 1, device=device)\n",
        "\n",
        "    d_proba_real = disc_model(x)\n",
        "    d_loss_real = loss_fn(d_proba_real, d_labels_real)\n",
        "\n",
        "    # 가짜 배치에서 판별자 훈련\n",
        "    input_z = create_noise(batch_size, z_size, mode_z).to(device)\n",
        "    g_output = gen_model(input_z)\n",
        "\n",
        "    d_proba_fake = disc_model(g_output)\n",
        "    d_labels_fake = torch.zeros(batch_size, 1, device=device)\n",
        "    d_loss_fake = loss_fn(d_proba_fake, d_labels_fake)\n",
        "\n",
        "    # 그레이디언트 역전파와 판별자 파라미터 최적화\n",
        "    d_loss = d_loss_real + d_loss_fake\n",
        "    d_loss.backward()\n",
        "    d_optimizer.step()\n",
        "\n",
        "    return d_loss.data.item(), d_proba_real.detach(), d_proba_fake.detach()"
      ]
    },
    {
      "cell_type": "code",
      "execution_count": null,
      "metadata": {
        "id": "MtcpXYZaOJ9T"
      },
      "outputs": [],
      "source": [
        "## 생성자 훈련\n",
        "def g_train(x):\n",
        "    gen_model.zero_grad()\n",
        "\n",
        "    batch_size = x.size(0)\n",
        "    input_z = create_noise(batch_size, z_size, mode_z).to(device)\n",
        "    g_labels_real = torch.ones((batch_size, 1), device=device)\n",
        "\n",
        "    g_output = gen_model(input_z)\n",
        "    d_proba_fake = disc_model(g_output)\n",
        "    g_loss = loss_fn(d_proba_fake, g_labels_real)\n",
        "\n",
        "    # 그레이디언트 역전파와 생성자 파라미터 최적화\n",
        "    g_loss.backward()\n",
        "    g_optimizer.step()\n",
        "\n",
        "    return g_loss.data.item()"
      ]
    },
    {
      "cell_type": "code",
      "execution_count": null,
      "metadata": {
        "id": "suGtyUdnOJ9T",
        "outputId": "b2ce05be-f49f-477c-93de-6d1ba101cc38"
      },
      "outputs": [
        {
          "name": "stdout",
          "output_type": "stream",
          "text": [
            "에포크 001 | 평균 손실 >> 생성자/판별자 4.8412/0.1003\n",
            "에포크 002 | 평균 손실 >> 생성자/판별자 4.6619/0.1380\n",
            "에포크 003 | 평균 손실 >> 생성자/판별자 3.8566/0.2510\n",
            "에포크 004 | 평균 손실 >> 생성자/판별자 3.2235/0.3074\n",
            "에포크 005 | 평균 손실 >> 생성자/판별자 3.0864/0.2983\n",
            "에포크 006 | 평균 손실 >> 생성자/판별자 3.0270/0.3158\n",
            "에포크 007 | 평균 손실 >> 생성자/판별자 3.0143/0.3278\n",
            "에포크 008 | 평균 손실 >> 생성자/판별자 2.9769/0.2738\n",
            "에포크 009 | 평균 손실 >> 생성자/판별자 3.1296/0.2795\n",
            "에포크 010 | 평균 손실 >> 생성자/판별자 3.1026/0.2682\n",
            "에포크 011 | 평균 손실 >> 생성자/판별자 3.1839/0.2567\n",
            "에포크 012 | 평균 손실 >> 생성자/판별자 3.2572/0.2363\n",
            "에포크 013 | 평균 손실 >> 생성자/판별자 3.3870/0.2382\n",
            "에포크 014 | 평균 손실 >> 생성자/판별자 3.4324/0.2241\n",
            "에포크 015 | 평균 손실 >> 생성자/판별자 3.5492/0.1987\n",
            "에포크 016 | 평균 손실 >> 생성자/판별자 3.5649/0.2158\n",
            "에포크 017 | 평균 손실 >> 생성자/판별자 3.5711/0.2264\n",
            "에포크 018 | 평균 손실 >> 생성자/판별자 3.5702/0.2138\n",
            "에포크 019 | 평균 손실 >> 생성자/판별자 3.6933/0.1886\n",
            "에포크 020 | 평균 손실 >> 생성자/판별자 3.6656/0.2095\n",
            "에포크 021 | 평균 손실 >> 생성자/판별자 3.7637/0.1952\n",
            "에포크 022 | 평균 손실 >> 생성자/판별자 3.7060/0.1885\n",
            "에포크 023 | 평균 손실 >> 생성자/판별자 3.7643/0.1907\n",
            "에포크 024 | 평균 손실 >> 생성자/판별자 3.7380/0.2260\n",
            "에포크 025 | 평균 손실 >> 생성자/판별자 3.8428/0.1881\n",
            "에포크 026 | 평균 손실 >> 생성자/판별자 3.8278/0.1941\n",
            "에포크 027 | 평균 손실 >> 생성자/판별자 3.8585/0.1701\n",
            "에포크 028 | 평균 손실 >> 생성자/판별자 3.9578/0.1749\n",
            "에포크 029 | 평균 손실 >> 생성자/판별자 3.9710/0.2062\n",
            "에포크 030 | 평균 손실 >> 생성자/판별자 3.9230/0.1734\n",
            "에포크 031 | 평균 손실 >> 생성자/판별자 4.0118/0.1680\n",
            "에포크 032 | 평균 손실 >> 생성자/판별자 3.9904/0.1928\n",
            "에포크 033 | 평균 손실 >> 생성자/판별자 3.9710/0.1748\n",
            "에포크 034 | 평균 손실 >> 생성자/판별자 3.9596/0.1786\n",
            "에포크 035 | 평균 손실 >> 생성자/판별자 4.0849/0.1725\n",
            "에포크 036 | 평균 손실 >> 생성자/판별자 4.1085/0.1732\n",
            "에포크 037 | 평균 손실 >> 생성자/판별자 4.0947/0.1702\n",
            "에포크 038 | 평균 손실 >> 생성자/판별자 4.1086/0.1778\n",
            "에포크 039 | 평균 손실 >> 생성자/판별자 4.1528/0.1690\n",
            "에포크 040 | 평균 손실 >> 생성자/판별자 4.1058/0.1900\n",
            "에포크 041 | 평균 손실 >> 생성자/판별자 4.2340/0.1373\n",
            "에포크 042 | 평균 손실 >> 생성자/판별자 4.2097/0.1803\n",
            "에포크 043 | 평균 손실 >> 생성자/판별자 4.1704/0.1711\n",
            "에포크 044 | 평균 손실 >> 생성자/판별자 4.2945/0.1460\n",
            "에포크 045 | 평균 손실 >> 생성자/판별자 4.3071/0.1649\n",
            "에포크 046 | 평균 손실 >> 생성자/판별자 4.2888/0.1286\n",
            "에포크 047 | 평균 손실 >> 생성자/판별자 4.3337/0.1565\n",
            "에포크 048 | 평균 손실 >> 생성자/판별자 4.3563/0.1744\n",
            "에포크 049 | 평균 손실 >> 생성자/판별자 4.2912/0.1281\n",
            "에포크 050 | 평균 손실 >> 생성자/판별자 4.4254/0.1654\n",
            "에포크 051 | 평균 손실 >> 생성자/판별자 4.3204/0.1388\n",
            "에포크 052 | 평균 손실 >> 생성자/판별자 4.3945/0.1491\n",
            "에포크 053 | 평균 손실 >> 생성자/판별자 4.4291/0.1435\n",
            "에포크 054 | 평균 손실 >> 생성자/판별자 4.5516/0.1480\n",
            "에포크 055 | 평균 손실 >> 생성자/판별자 4.5348/0.1373\n",
            "에포크 056 | 평균 손실 >> 생성자/판별자 4.5175/0.1634\n",
            "에포크 057 | 평균 손실 >> 생성자/판별자 4.5746/0.1370\n",
            "에포크 058 | 평균 손실 >> 생성자/판별자 4.4675/0.1418\n",
            "에포크 059 | 평균 손실 >> 생성자/판별자 4.5000/0.1717\n",
            "에포크 060 | 평균 손실 >> 생성자/판별자 4.5535/0.1317\n",
            "에포크 061 | 평균 손실 >> 생성자/판별자 4.4985/0.1183\n",
            "에포크 062 | 평균 손실 >> 생성자/판별자 4.8025/0.1076\n",
            "에포크 063 | 평균 손실 >> 생성자/판별자 4.6973/0.1184\n",
            "에포크 064 | 평균 손실 >> 생성자/판별자 4.5972/0.1621\n",
            "에포크 065 | 평균 손실 >> 생성자/판별자 4.6958/0.1120\n",
            "에포크 066 | 평균 손실 >> 생성자/판별자 4.7085/0.1295\n",
            "에포크 067 | 평균 손실 >> 생성자/판별자 4.8157/0.1128\n",
            "에포크 068 | 평균 손실 >> 생성자/판별자 4.6854/0.1450\n",
            "에포크 069 | 평균 손실 >> 생성자/판별자 4.8434/0.1041\n",
            "에포크 070 | 평균 손실 >> 생성자/판별자 4.8644/0.1271\n",
            "에포크 071 | 평균 손실 >> 생성자/판별자 4.7704/0.1433\n",
            "에포크 072 | 평균 손실 >> 생성자/판별자 4.7244/0.1292\n",
            "에포크 073 | 평균 손실 >> 생성자/판별자 4.7884/0.1164\n",
            "에포크 074 | 평균 손실 >> 생성자/판별자 4.7964/0.1085\n",
            "에포크 075 | 평균 손실 >> 생성자/판별자 4.9085/0.1117\n",
            "에포크 076 | 평균 손실 >> 생성자/판별자 4.8737/0.1128\n",
            "에포크 077 | 평균 손실 >> 생성자/판별자 5.0025/0.1209\n",
            "에포크 078 | 평균 손실 >> 생성자/판별자 4.9927/0.1081\n",
            "에포크 079 | 평균 손실 >> 생성자/판별자 4.8530/0.1242\n",
            "에포크 080 | 평균 손실 >> 생성자/판별자 4.8619/0.1209\n",
            "에포크 081 | 평균 손실 >> 생성자/판별자 4.8403/0.1330\n",
            "에포크 082 | 평균 손실 >> 생성자/판별자 4.8279/0.1217\n",
            "에포크 083 | 평균 손실 >> 생성자/판별자 5.0344/0.1018\n",
            "에포크 084 | 평균 손실 >> 생성자/판별자 4.8363/0.1626\n",
            "에포크 085 | 평균 손실 >> 생성자/판별자 4.7469/0.1334\n",
            "에포크 086 | 평균 손실 >> 생성자/판별자 5.0724/0.1043\n",
            "에포크 087 | 평균 손실 >> 생성자/판별자 4.9733/0.1048\n",
            "에포크 088 | 평균 손실 >> 생성자/판별자 5.0086/0.1211\n",
            "에포크 089 | 평균 손실 >> 생성자/판별자 4.8941/0.1086\n",
            "에포크 090 | 평균 손실 >> 생성자/판별자 5.0455/0.1273\n",
            "에포크 091 | 평균 손실 >> 생성자/판별자 4.9283/0.1198\n",
            "에포크 092 | 평균 손실 >> 생성자/판별자 4.9342/0.1258\n",
            "에포크 093 | 평균 손실 >> 생성자/판별자 5.0220/0.1058\n",
            "에포크 094 | 평균 손실 >> 생성자/판별자 4.9625/0.1240\n",
            "에포크 095 | 평균 손실 >> 생성자/판별자 5.1469/0.1021\n",
            "에포크 096 | 평균 손실 >> 생성자/판별자 4.9944/0.0994\n",
            "에포크 097 | 평균 손실 >> 생성자/판별자 5.2117/0.0919\n",
            "에포크 098 | 평균 손실 >> 생성자/판별자 5.1780/0.0945\n",
            "에포크 099 | 평균 손실 >> 생성자/판별자 5.1477/0.1325\n",
            "에포크 100 | 평균 손실 >> 생성자/판별자 5.1916/0.0934\n"
          ]
        }
      ],
      "source": [
        "mode_z = 'uniform'\n",
        "fixed_z = create_noise(batch_size, z_size, mode_z).to(device)\n",
        "\n",
        "def create_samples(g_model, input_z):\n",
        "    g_output = g_model(input_z)\n",
        "    images = torch.reshape(g_output, (batch_size, *image_size))\n",
        "    return (images+1)/2.0\n",
        "\n",
        "epoch_samples = []\n",
        "\n",
        "num_epochs = 100\n",
        "torch.manual_seed(1)\n",
        "\n",
        "for epoch in range(1, num_epochs+1):\n",
        "    gen_model.train()\n",
        "    d_losses, g_losses = [], []\n",
        "    for i, (x, _) in enumerate(mnist_dl):\n",
        "        d_loss, d_proba_real, d_proba_fake = d_train(x)\n",
        "        d_losses.append(d_loss)\n",
        "        g_losses.append(g_train(x))\n",
        "\n",
        "    print(f'에포크 {epoch:03d} | 평균 손실 >>'\n",
        "          f' 생성자/판별자 {torch.FloatTensor(g_losses).mean():.4f}'\n",
        "          f'/{torch.FloatTensor(d_losses).mean():.4f}')\n",
        "    gen_model.eval()\n",
        "    epoch_samples.append(\n",
        "        create_samples(gen_model, fixed_z).detach().cpu().numpy())"
      ]
    },
    {
      "cell_type": "code",
      "execution_count": null,
      "metadata": {
        "id": "5C0egqsgOJ9T",
        "outputId": "1494ac58-b6c5-4004-b00e-c4fd68ee5d52"
      },
      "outputs": [
        {
          "data": {
            "image/png": "[encoded data removed]",
            "text/plain": [
              "<Figure size 720x1008 with 30 Axes>"
            ]
          },
          "metadata": {},
          "output_type": "display_data"
        }
      ],
      "source": [
        "selected_epochs = [1, 2, 4, 10, 50, 100]\n",
        "fig = plt.figure(figsize=(10, 14))\n",
        "for i,e in enumerate(selected_epochs):\n",
        "    for j in range(5):\n",
        "        ax = fig.add_subplot(6, 5, i*5+j+1)\n",
        "        ax.set_xticks([])\n",
        "        ax.set_yticks([])\n",
        "        if j == 0:\n",
        "            ax.text(\n",
        "                -0.06, 0.5, f'Epoch {e}',\n",
        "                rotation=90, size=18, color='red',\n",
        "                horizontalalignment='right',\n",
        "                verticalalignment='center',\n",
        "                transform=ax.transAxes)\n",
        "\n",
        "        image = epoch_samples[e-1][j]\n",
        "        ax.imshow(image, cmap='gray_r')\n",
        "\n",
        "# plt.savefig('figures/ch17-dcgan-samples.pdf')\n",
        "plt.show()"
      ]
    },
    {
      "cell_type": "markdown",
      "metadata": {
        "id": "Q-D2K178OJ9T"
      },
      "source": [
        "## 두 분포 사이의 거리 측정\n"
      ]
    },
    {
      "cell_type": "code",
      "execution_count": null,
      "metadata": {
        "id": "mKgvHOQbOJ9U",
        "outputId": "67439f00-e684-47be-93ac-c58573210a70"
      },
      "outputs": [
        {
          "data": {
            "text/html": [
              "<img src=\"https://raw.githubusercontent.com/rickiepark/ml-with-pytorch/main/ch17/figures/17_14.png\" width=\"700\"/>"
            ],
            "text/plain": [
              "<IPython.core.display.Image object>"
            ]
          },
          "execution_count": 21,
          "metadata": {},
          "output_type": "execute_result"
        }
      ],
      "source": [
        "Image(url='https://raw.githubusercontent.com/rickiepark/ml-with-pytorch/main/ch17/figures/17_14.png', width=700)"
      ]
    },
    {
      "cell_type": "code",
      "execution_count": null,
      "metadata": {
        "id": "zAyGFLHzOJ9U",
        "outputId": "d2251a23-c996-4a0e-da3f-fe6d8c7f2955"
      },
      "outputs": [
        {
          "data": {
            "text/html": [
              "<img src=\"https://raw.githubusercontent.com/rickiepark/ml-with-pytorch/main/ch17/figures/17_15.png\" width=\"800\"/>"
            ],
            "text/plain": [
              "<IPython.core.display.Image object>"
            ]
          },
          "execution_count": 22,
          "metadata": {},
          "output_type": "execute_result"
        }
      ],
      "source": [
        "Image(url='https://raw.githubusercontent.com/rickiepark/ml-with-pytorch/main/ch17/figures/17_15.png', width=800)"
      ]
    },
    {
      "cell_type": "markdown",
      "metadata": {
        "id": "qoF_staJOJ9U"
      },
      "source": [
        "## GAN에 EM 거리 사용\n"
      ]
    },
    {
      "cell_type": "markdown",
      "metadata": {
        "id": "baOsbwk_OJ9U"
      },
      "source": [
        "## 그레이디언트 페널티\n"
      ]
    },
    {
      "cell_type": "markdown",
      "metadata": {
        "id": "NRh4Jp7rOJ9U"
      },
      "source": [
        "## WGAN-GP로 DCGAN 모델 훈련\n"
      ]
    },
    {
      "cell_type": "code",
      "execution_count": null,
      "metadata": {
        "id": "7IuW2nx9OJ9U"
      },
      "outputs": [],
      "source": [
        "def make_generator_network_wgan(input_size, n_filters):\n",
        "    model = nn.Sequential(\n",
        "        nn.ConvTranspose2d(input_size, n_filters*4, 4, 1, 0,\n",
        "                           bias=False),\n",
        "        nn.InstanceNorm2d(n_filters*4),\n",
        "        nn.LeakyReLU(0.2),\n",
        "\n",
        "        nn.ConvTranspose2d(n_filters*4, n_filters*2, 3, 2, 1, bias=False),\n",
        "        nn.InstanceNorm2d(n_filters*2),\n",
        "        nn.LeakyReLU(0.2),\n",
        "\n",
        "        nn.ConvTranspose2d(n_filters*2, n_filters, 4, 2, 1, bias=False),\n",
        "        nn.InstanceNorm2d(n_filters),\n",
        "        nn.LeakyReLU(0.2),\n",
        "\n",
        "        nn.ConvTranspose2d(n_filters, 1, 4, 2, 1, bias=False),\n",
        "        nn.Tanh())\n",
        "    return model\n",
        "\n",
        "class DiscriminatorWGAN(nn.Module):\n",
        "    def __init__(self, n_filters):\n",
        "        super().__init__()\n",
        "        self.network = nn.Sequential(\n",
        "            nn.Conv2d(1, n_filters, 4, 2, 1, bias=False),\n",
        "            nn.LeakyReLU(0.2),\n",
        "\n",
        "            nn.Conv2d(n_filters, n_filters*2, 4, 2, 1, bias=False),\n",
        "            nn.InstanceNorm2d(n_filters * 2),\n",
        "            nn.LeakyReLU(0.2),\n",
        "\n",
        "            nn.Conv2d(n_filters*2, n_filters*4, 3, 2, 1, bias=False),\n",
        "            nn.InstanceNorm2d(n_filters*4),\n",
        "            nn.LeakyReLU(0.2),\n",
        "\n",
        "            nn.Conv2d(n_filters*4, 1, 4, 1, 0, bias=False),\n",
        "            nn.Sigmoid())\n",
        "\n",
        "    def forward(self, input):\n",
        "        output = self.network(input)\n",
        "        return output.view(-1, 1).squeeze(0)"
      ]
    },
    {
      "cell_type": "code",
      "execution_count": null,
      "metadata": {
        "id": "Q8s9HkoZOJ9U"
      },
      "outputs": [],
      "source": [
        "gen_model = make_generator_network_wgan(z_size, n_filters).to(device)\n",
        "disc_model = DiscriminatorWGAN(n_filters).to(device)\n",
        "\n",
        "g_optimizer = torch.optim.Adam(gen_model.parameters(), 0.0002)\n",
        "d_optimizer = torch.optim.Adam(disc_model.parameters(), 0.0002)"
      ]
    },
    {
      "cell_type": "code",
      "execution_count": null,
      "metadata": {
        "id": "OVNOT7GEOJ9c"
      },
      "outputs": [],
      "source": [
        "from torch.autograd import grad as torch_grad\n",
        "\n",
        "\n",
        "def gradient_penalty(real_data, generated_data):\n",
        "    batch_size = real_data.size(0)\n",
        "\n",
        "    # 보간 계산\n",
        "    alpha = torch.rand(real_data.shape[0], 1, 1, 1, requires_grad=True, device=device)\n",
        "    interpolated = alpha * real_data + (1 - alpha) * generated_data\n",
        "\n",
        "    # 보간된 샘플의 확률 계산\n",
        "    proba_interpolated = disc_model(interpolated)\n",
        "\n",
        "    # 샘플에 대한 확률의 그레이디언트 계산\n",
        "    gradients = torch_grad(outputs=proba_interpolated, inputs=interpolated,\n",
        "                           grad_outputs=torch.ones(proba_interpolated.size(), device=device),\n",
        "                           create_graph=True, retain_graph=True)[0]\n",
        "\n",
        "    gradients = gradients.view(batch_size, -1)\n",
        "    gradients_norm = gradients.norm(2, dim=1)\n",
        "    return lambda_gp * ((gradients_norm - 1)**2).mean()\n"
      ]
    },
    {
      "cell_type": "code",
      "execution_count": null,
      "metadata": {
        "id": "5dtpZE2hOJ9c"
      },
      "outputs": [],
      "source": [
        "## Train the discriminator\n",
        "def d_train_wgan(x):\n",
        "    disc_model.zero_grad()\n",
        "\n",
        "    batch_size = x.size(0)\n",
        "    x = x.to(device)\n",
        "\n",
        "    # 진짜 데이터와 생성된 데이터의 확률 계산\n",
        "    d_real = disc_model(x)\n",
        "    input_z = create_noise(batch_size, z_size, mode_z).to(device)\n",
        "    g_output = gen_model(input_z)\n",
        "    d_generated = disc_model(g_output)\n",
        "    d_loss = d_generated.mean() - d_real.mean() + gradient_penalty(x.data, g_output.data)\n",
        "    d_loss.backward()\n",
        "    d_optimizer.step()\n",
        "\n",
        "    return d_loss.data.item()"
      ]
    },
    {
      "cell_type": "code",
      "execution_count": null,
      "metadata": {
        "id": "xqFifidyOJ9c"
      },
      "outputs": [],
      "source": [
        "## 생성자 훈련\n",
        "def g_train_wgan(x):\n",
        "    gen_model.zero_grad()\n",
        "\n",
        "    batch_size = x.size(0)\n",
        "    input_z = create_noise(batch_size, z_size, mode_z).to(device)\n",
        "    g_output = gen_model(input_z)\n",
        "\n",
        "    d_generated = disc_model(g_output)\n",
        "    g_loss = -d_generated.mean()\n",
        "\n",
        "    # 그레이디언트 역전파와 생성자 파라미터 최적화\n",
        "    g_loss.backward()\n",
        "    g_optimizer.step()\n",
        "\n",
        "    return g_loss.data.item()"
      ]
    },
    {
      "cell_type": "code",
      "execution_count": null,
      "metadata": {
        "id": "BM7dt3OyOJ9d",
        "outputId": "757bc059-d9c8-4806-ccb9-9ea811ecb237"
      },
      "outputs": [
        {
          "name": "stdout",
          "output_type": "stream",
          "text": [
            "에포크 001 | 판별자 손실 >> -0.3032\n",
            "에포크 002 | 판별자 손실 >> -0.5580\n",
            "에포크 003 | 판별자 손실 >> -0.6006\n",
            "에포크 004 | 판별자 손실 >> -0.6240\n",
            "에포크 005 | 판별자 손실 >> -0.6449\n",
            "에포크 006 | 판별자 손실 >> -0.6293\n",
            "에포크 007 | 판별자 손실 >> -0.5722\n",
            "에포크 008 | 판별자 손실 >> -0.5399\n",
            "에포크 009 | 판별자 손실 >> -0.5213\n",
            "에포크 010 | 판별자 손실 >> -0.5102\n",
            "에포크 011 | 판별자 손실 >> -0.4978\n",
            "에포크 012 | 판별자 손실 >> -0.4827\n",
            "에포크 013 | 판별자 손실 >> -0.4860\n",
            "에포크 014 | 판별자 손실 >> -0.4765\n",
            "에포크 015 | 판별자 손실 >> -0.4713\n",
            "에포크 016 | 판별자 손실 >> -0.4597\n",
            "에포크 017 | 판별자 손실 >> -0.4557\n",
            "에포크 018 | 판별자 손실 >> -0.4584\n",
            "에포크 019 | 판별자 손실 >> -0.4530\n",
            "에포크 020 | 판별자 손실 >> -0.4595\n",
            "에포크 021 | 판별자 손실 >> -0.4549\n",
            "에포크 022 | 판별자 손실 >> -0.4609\n",
            "에포크 023 | 판별자 손실 >> -0.4621\n",
            "에포크 024 | 판별자 손실 >> -0.4619\n",
            "에포크 025 | 판별자 손실 >> -0.4553\n",
            "에포크 026 | 판별자 손실 >> -0.4636\n",
            "에포크 027 | 판별자 손실 >> -0.4599\n",
            "에포크 028 | 판별자 손실 >> -0.4626\n",
            "에포크 029 | 판별자 손실 >> -0.4633\n",
            "에포크 030 | 판별자 손실 >> -0.4654\n",
            "에포크 031 | 판별자 손실 >> -0.4666\n",
            "에포크 032 | 판별자 손실 >> -0.4608\n",
            "에포크 033 | 판별자 손실 >> -0.4665\n",
            "에포크 034 | 판별자 손실 >> -0.4656\n",
            "에포크 035 | 판별자 손실 >> -0.4674\n",
            "에포크 036 | 판별자 손실 >> -0.4686\n",
            "에포크 037 | 판별자 손실 >> -0.4701\n",
            "에포크 038 | 판별자 손실 >> -0.4591\n",
            "에포크 039 | 판별자 손실 >> -0.4685\n",
            "에포크 040 | 판별자 손실 >> -0.4630\n",
            "에포크 041 | 판별자 손실 >> -0.4717\n",
            "에포크 042 | 판별자 손실 >> -0.4694\n",
            "에포크 043 | 판별자 손실 >> -0.4706\n",
            "에포크 044 | 판별자 손실 >> -0.4690\n",
            "에포크 045 | 판별자 손실 >> -0.4704\n",
            "에포크 046 | 판별자 손실 >> -0.4676\n",
            "에포크 047 | 판별자 손실 >> -0.4687\n",
            "에포크 048 | 판별자 손실 >> -0.4702\n",
            "에포크 049 | 판별자 손실 >> -0.4706\n",
            "에포크 050 | 판별자 손실 >> -0.4706\n",
            "에포크 051 | 판별자 손실 >> -0.4767\n",
            "에포크 052 | 판별자 손실 >> -0.4706\n",
            "에포크 053 | 판별자 손실 >> -0.4701\n",
            "에포크 054 | 판별자 손실 >> -0.4718\n",
            "에포크 055 | 판별자 손실 >> -0.4772\n",
            "에포크 056 | 판별자 손실 >> -0.4761\n",
            "에포크 057 | 판별자 손실 >> -0.4757\n",
            "에포크 058 | 판별자 손실 >> -0.4754\n",
            "에포크 059 | 판별자 손실 >> -0.4733\n",
            "에포크 060 | 판별자 손실 >> -0.4781\n",
            "에포크 061 | 판별자 손실 >> -0.4755\n",
            "에포크 062 | 판별자 손실 >> -0.4780\n",
            "에포크 063 | 판별자 손실 >> -0.4825\n",
            "에포크 064 | 판별자 손실 >> -0.4754\n",
            "에포크 065 | 판별자 손실 >> -0.4753\n",
            "에포크 066 | 판별자 손실 >> -0.4789\n",
            "에포크 067 | 판별자 손실 >> -0.4782\n",
            "에포크 068 | 판별자 손실 >> -0.4822\n",
            "에포크 069 | 판별자 손실 >> -0.4767\n",
            "에포크 070 | 판별자 손실 >> -0.4829\n",
            "에포크 071 | 판별자 손실 >> -0.4814\n",
            "에포크 072 | 판별자 손실 >> -0.4819\n",
            "에포크 073 | 판별자 손실 >> -0.4799\n",
            "에포크 074 | 판별자 손실 >> -0.4767\n",
            "에포크 075 | 판별자 손실 >> -0.4823\n",
            "에포크 076 | 판별자 손실 >> -0.4818\n",
            "에포크 077 | 판별자 손실 >> -0.4859\n",
            "에포크 078 | 판별자 손실 >> -0.4787\n",
            "에포크 079 | 판별자 손실 >> -0.4827\n",
            "에포크 080 | 판별자 손실 >> -0.4794\n",
            "에포크 081 | 판별자 손실 >> -0.4871\n",
            "에포크 082 | 판별자 손실 >> -0.4845\n",
            "에포크 083 | 판별자 손실 >> -0.4897\n",
            "에포크 084 | 판별자 손실 >> -0.4841\n",
            "에포크 085 | 판별자 손실 >> -0.4813\n",
            "에포크 086 | 판별자 손실 >> -0.4803\n",
            "에포크 087 | 판별자 손실 >> -0.4837\n",
            "에포크 088 | 판별자 손실 >> -0.4785\n",
            "에포크 089 | 판별자 손실 >> -0.4854\n",
            "에포크 090 | 판별자 손실 >> -0.4868\n",
            "에포크 091 | 판별자 손실 >> -0.4868\n",
            "에포크 092 | 판별자 손실 >> -0.4836\n",
            "에포크 093 | 판별자 손실 >> -0.4840\n",
            "에포크 094 | 판별자 손실 >> -0.4796\n",
            "에포크 095 | 판별자 손실 >> -0.4847\n",
            "에포크 096 | 판별자 손실 >> -0.4837\n",
            "에포크 097 | 판별자 손실 >> -0.4888\n",
            "에포크 098 | 판별자 손실 >> -0.4828\n",
            "에포크 099 | 판별자 손실 >> -0.4878\n",
            "에포크 100 | 판별자 손실 >> -0.4864\n"
          ]
        }
      ],
      "source": [
        "epoch_samples_wgan = []\n",
        "lambda_gp = 10.0\n",
        "num_epochs = 100\n",
        "torch.manual_seed(1)\n",
        "critic_iterations = 5\n",
        "\n",
        "for epoch in range(1, num_epochs+1):\n",
        "    gen_model.train()\n",
        "    d_losses, g_losses = [], []\n",
        "    for i, (x, _) in enumerate(mnist_dl):\n",
        "        for _ in range(critic_iterations):\n",
        "            d_loss = d_train_wgan(x)\n",
        "        d_losses.append(d_loss)\n",
        "        g_losses.append(g_train_wgan(x))\n",
        "\n",
        "    print(f'에포크 {epoch:03d} | 판별자 손실 >>'\n",
        "          f' {torch.FloatTensor(d_losses).mean():.4f}')\n",
        "    gen_model.eval()\n",
        "    epoch_samples_wgan.append(\n",
        "        create_samples(gen_model, fixed_z).detach().cpu().numpy())"
      ]
    },
    {
      "cell_type": "code",
      "execution_count": null,
      "metadata": {
        "id": "uiN0Ht2EOJ9d",
        "outputId": "b484be69-3477-404e-bf9d-0f86fbba6d11"
      },
      "outputs": [
        {
          "data": {
            "image/png": "[encoded data removed]",
            "text/plain": [
              "<Figure size 720x1008 with 30 Axes>"
            ]
          },
          "metadata": {},
          "output_type": "display_data"
        }
      ],
      "source": [
        "selected_epochs = [1, 2, 4, 10, 50, 100]\n",
        "# selected_epochs = [1, 10, 20, 30, 50, 70]\n",
        "fig = plt.figure(figsize=(10, 14))\n",
        "for i,e in enumerate(selected_epochs):\n",
        "    for j in range(5):\n",
        "        ax = fig.add_subplot(6, 5, i*5+j+1)\n",
        "        ax.set_xticks([])\n",
        "        ax.set_yticks([])\n",
        "        if j == 0:\n",
        "            ax.text(\n",
        "                -0.06, 0.5, f'Epoch {e}',\n",
        "                rotation=90, size=18, color='red',\n",
        "                horizontalalignment='right',\n",
        "                verticalalignment='center',\n",
        "                transform=ax.transAxes)\n",
        "\n",
        "        image = epoch_samples_wgan[e-1][j]\n",
        "        ax.imshow(image, cmap='gray_r')\n",
        "\n",
        "# plt.savefig('figures/ch17-wgan-gp-samples.pdf')\n",
        "plt.show()\n"
      ]
    },
    {
      "cell_type": "markdown",
      "metadata": {
        "id": "mhkJXLMgOJ9d"
      },
      "source": [
        "## 모드 붕괴\n"
      ]
    },
    {
      "cell_type": "code",
      "execution_count": null,
      "metadata": {
        "id": "8AsoFhSuOJ9d",
        "outputId": "c25c8490-249f-450c-9a32-8d9a91b563ae"
      },
      "outputs": [
        {
          "data": {
            "image/png": "[encoded data removed]",
            "text/plain": [
              "<IPython.core.display.Image object>"
            ]
          },
          "execution_count": 30,
          "metadata": {
            "image/png": {
              "width": 600
            }
          },
          "output_type": "execute_result"
        }
      ],
      "source": [
        "Image(filename='figures/17_16.png', width=600)"
      ]
    },
    {
      "cell_type": "markdown",
      "metadata": {
        "id": "NHNsvFHeOJ9d"
      },
      "source": [
        "## 다른 GAN 애플리케이션\n",
        "# 요약"
      ]
    }
  ],
  "metadata": {
    "accelerator": "GPU",
    "colab": {
      "name": "ch17-DCGAN.ipynb",
      "provenance": []
    },
    "kernelspec": {
      "display_name": "Python 3 (ipykernel)",
      "language": "python",
      "name": "python3"
    },
    "language_info": {
      "codemirror_mode": {
        "name": "ipython",
        "version": 3
      },
      "file_extension": ".py",
      "mimetype": "text/x-python",
      "name": "python",
      "nbconvert_exporter": "python",
      "pygments_lexer": "ipython3",
      "version": "3.8.7"
    }
  },
  "nbformat": 4,
  "nbformat_minor": 0
}
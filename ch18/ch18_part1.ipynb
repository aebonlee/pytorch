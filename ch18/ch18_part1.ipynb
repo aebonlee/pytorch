{
  "cells": [
    {
      "cell_type": "markdown",
      "metadata": {
        "tags": [],
        "id": "m3OyZu81MtVD"
      },
      "source": [
        "# 머신 러닝 교과서 - 파이토치편"
      ]
    },
    {
      "cell_type": "markdown",
      "metadata": {
        "id": "FcRWuE5OMtVI"
      },
      "source": [
        "<table align=\"left\"><tr><td>\n",
        "<a href=\"https://colab.research.google.com/github/rickiepark/ml-with-pytorch/blob/main/ch18/ch18_part1.ipynb\" target=\"_parent\"><img src=\"https://colab.research.google.com/assets/colab-badge.svg\" alt=\"코랩에서 실행하기\"/></a>\n",
        "</td></tr></table>"
      ]
    },
    {
      "cell_type": "markdown",
      "metadata": {
        "id": "QjSRm6AwMtVJ"
      },
      "source": [
        "## 패키지 버전 체크"
      ]
    },
    {
      "cell_type": "markdown",
      "metadata": {
        "id": "U-7LK2jDMtVL"
      },
      "source": [
        "check_packages.py 스크립트에서 로드하기 위해 폴더를 추가합니다:"
      ]
    },
    {
      "cell_type": "code",
      "execution_count": 1,
      "metadata": {
        "id": "cq4nqVx-MtVM",
        "outputId": "57ce43ab-3224-409c-f83c-de633852d4ca",
        "colab": {
          "base_uri": "https://localhost:8080/"
        }
      },
      "outputs": [
        {
          "output_type": "stream",
          "name": "stdout",
          "text": [
            "--2023-10-12 14:03:41--  https://raw.githubusercontent.com/rickiepark/ml-with-pytorch/main/python_environment_check.py\n",
            "Resolving raw.githubusercontent.com (raw.githubusercontent.com)... 185.199.108.133, 185.199.109.133, 185.199.110.133, ...\n",
            "Connecting to raw.githubusercontent.com (raw.githubusercontent.com)|185.199.108.133|:443... connected.\n",
            "HTTP request sent, awaiting response... 200 OK\n",
            "Length: 1629 (1.6K) [text/plain]\n",
            "Saving to: ‘python_environment_check.py’\n",
            "\n",
            "\r          python_en   0%[                    ]       0  --.-KB/s               \rpython_environment_ 100%[===================>]   1.59K  --.-KB/s    in 0s      \n",
            "\n",
            "2023-10-12 14:03:41 (22.9 MB/s) - ‘python_environment_check.py’ saved [1629/1629]\n",
            "\n"
          ]
        }
      ],
      "source": [
        "import sys\n",
        "\n",
        "# 코랩의 경우 깃허브 저장소로부터 python_environment_check.py를 다운로드 합니다.\n",
        "if 'google.colab' in sys.modules:\n",
        "    !wget https://raw.githubusercontent.com/rickiepark/ml-with-pytorch/main/python_environment_check.py\n",
        "else:\n",
        "    sys.path.insert(0, '..')"
      ]
    },
    {
      "cell_type": "markdown",
      "metadata": {
        "id": "rMR4Fct5MtVO"
      },
      "source": [
        "권장 패키지 버전을 확인하세요:"
      ]
    },
    {
      "cell_type": "code",
      "execution_count": 2,
      "metadata": {
        "id": "z3SAgiaaMtVP",
        "outputId": "2c0a6cb4-1a79-4ea8-d4f1-10d1bcf0c7ab",
        "colab": {
          "base_uri": "https://localhost:8080/"
        }
      },
      "outputs": [
        {
          "output_type": "stream",
          "name": "stdout",
          "text": [
            "[OK] Your Python version is 3.10.12 (main, Jun 11 2023, 05:26:28) [GCC 11.4.0]\n",
            "[OK] torch 2.0.1+cu118\n",
            "[OK] networkx 3.1\n",
            "[OK] numpy 1.23.5\n"
          ]
        }
      ],
      "source": [
        "from python_environment_check import check_packages\n",
        "\n",
        "\n",
        "d = {\n",
        "    'torch': '1.8.0',\n",
        "    'networkx': '2.6.2',\n",
        "    'numpy': '1.21.2',\n",
        "}\n",
        "\n",
        "check_packages(d)"
      ]
    },
    {
      "cell_type": "markdown",
      "metadata": {
        "id": "8v-4BZSWMtVQ"
      },
      "source": [
        "# 18장 - 그래프 구조 데이터의 의존성 감지를 위한 그래프 신경망 (Part 1/2)"
      ]
    },
    {
      "cell_type": "markdown",
      "metadata": {
        "id": "3-HrNPYZMtVQ"
      },
      "source": [
        "- 그래프 데이터 소개\n",
        "  - 비유향 그래프\n",
        "  - 유향 그래프\n",
        "  - 레이블 그래프\n",
        "  - 분자를 그래프로 표현하기\n",
        "- 그래프 합성곱 이해\n",
        "  - 그래프 합성곱의 사용 동기\n",
        "  - 기본 그래프 합성곱 구현\n",
        "- 파이토치에서 GNN을 밑바닥부터 구현하기\n",
        "  - NodeNetwork 모델 정의하기\n",
        "  - NodeNetwork의 그래프 합성곱 층 만들기\n",
        "  - 다양한 그래프 크기를 처리하기 위해 전역 풀링 층 추가하기\n",
        "  - 데이터로더 준비\n",
        "  - NodeNetwork를 사용하여 예측하기"
      ]
    },
    {
      "cell_type": "code",
      "execution_count": 3,
      "metadata": {
        "id": "I3AwxO52MtVR"
      },
      "outputs": [],
      "source": [
        "from IPython.display import Image\n",
        "%matplotlib inline"
      ]
    },
    {
      "cell_type": "markdown",
      "metadata": {
        "id": "CFkHGTUNMtVR"
      },
      "source": [
        "## 그래프 데이터 소개"
      ]
    },
    {
      "cell_type": "code",
      "execution_count": 4,
      "metadata": {
        "id": "LbFLq7TkMtVR",
        "outputId": "edbb3d5c-9c53-46a2-f60c-edc2a229befd",
        "colab": {
          "base_uri": "https://localhost:8080/",
          "height": 345
        }
      },
      "outputs": [
        {
          "output_type": "execute_result",
          "data": {
            "text/html": [
              "<img src=\"https://raw.githubusercontent.com/rickiepark/ml-with-pytorch/main/ch18/figures/18_01.png\" width=\"500\"/>"
            ],
            "text/plain": [
              "<IPython.core.display.Image object>"
            ]
          },
          "metadata": {},
          "execution_count": 4
        }
      ],
      "source": [
        "Image(url='https://raw.githubusercontent.com/rickiepark/ml-with-pytorch/main/ch18/figures/18_01.png', width=500)"
      ]
    },
    {
      "cell_type": "markdown",
      "metadata": {
        "id": "MQBi-bsrMtVS"
      },
      "source": [
        "### 비유향 그래프"
      ]
    },
    {
      "cell_type": "code",
      "execution_count": 5,
      "metadata": {
        "id": "ihxqJvy6MtVS",
        "outputId": "c23817f5-299c-47ee-adb4-38b4a87cf250",
        "colab": {
          "base_uri": "https://localhost:8080/",
          "height": 301
        }
      },
      "outputs": [
        {
          "output_type": "execute_result",
          "data": {
            "text/html": [
              "<img src=\"https://raw.githubusercontent.com/rickiepark/ml-with-pytorch/main/ch18/figures/18_02.png\" width=\"500\"/>"
            ],
            "text/plain": [
              "<IPython.core.display.Image object>"
            ]
          },
          "metadata": {},
          "execution_count": 5
        }
      ],
      "source": [
        "Image(url='https://raw.githubusercontent.com/rickiepark/ml-with-pytorch/main/ch18/figures/18_02.png', width=500)"
      ]
    },
    {
      "cell_type": "markdown",
      "metadata": {
        "id": "UytssDq_MtVS"
      },
      "source": [
        "### 유향 그래프"
      ]
    },
    {
      "cell_type": "code",
      "execution_count": 6,
      "metadata": {
        "id": "dSt83bPlMtVT",
        "outputId": "a262285d-6b68-49ad-c203-7d85b3ee4519",
        "colab": {
          "base_uri": "https://localhost:8080/",
          "height": 227
        }
      },
      "outputs": [
        {
          "output_type": "execute_result",
          "data": {
            "text/html": [
              "<img src=\"https://raw.githubusercontent.com/rickiepark/ml-with-pytorch/main/ch18/figures/18_03.png\" width=\"300\"/>"
            ],
            "text/plain": [
              "<IPython.core.display.Image object>"
            ]
          },
          "metadata": {},
          "execution_count": 6
        }
      ],
      "source": [
        "Image(url='https://raw.githubusercontent.com/rickiepark/ml-with-pytorch/main/ch18/figures/18_03.png', width=300)"
      ]
    },
    {
      "cell_type": "markdown",
      "metadata": {
        "id": "tLfhzbnvMtVT"
      },
      "source": [
        "### 레이블 그래프"
      ]
    },
    {
      "cell_type": "markdown",
      "metadata": {
        "id": "kcPYEHhhMtVT"
      },
      "source": [
        "### 분자를 그래프로 표현하기"
      ]
    },
    {
      "cell_type": "code",
      "execution_count": 7,
      "metadata": {
        "id": "xnZd9chrMtVT",
        "outputId": "d8ef3c2b-9530-45be-89b8-909437af7d39",
        "colab": {
          "base_uri": "https://localhost:8080/",
          "height": 359
        }
      },
      "outputs": [
        {
          "output_type": "execute_result",
          "data": {
            "text/html": [
              "<img src=\"https://raw.githubusercontent.com/rickiepark/ml-with-pytorch/main/ch18/figures/18_04.png\" width=\"500\"/>"
            ],
            "text/plain": [
              "<IPython.core.display.Image object>"
            ]
          },
          "metadata": {},
          "execution_count": 7
        }
      ],
      "source": [
        "Image(url='https://raw.githubusercontent.com/rickiepark/ml-with-pytorch/main/ch18/figures/18_04.png', width=500)"
      ]
    },
    {
      "cell_type": "markdown",
      "metadata": {
        "id": "h8-x7z5xMtVT"
      },
      "source": [
        "## 그래프 합성곱 이해"
      ]
    },
    {
      "cell_type": "markdown",
      "metadata": {
        "id": "WM-d-Q5aMtVU"
      },
      "source": [
        "### 그래프 합성곱의 사용 동기"
      ]
    },
    {
      "cell_type": "code",
      "execution_count": 8,
      "metadata": {
        "id": "w7n1ebyTMtVU",
        "outputId": "d7327ed6-6f44-444c-b5b9-fae7841bedc8",
        "colab": {
          "base_uri": "https://localhost:8080/",
          "height": 309
        }
      },
      "outputs": [
        {
          "output_type": "execute_result",
          "data": {
            "text/html": [
              "<img src=\"https://raw.githubusercontent.com/rickiepark/ml-with-pytorch/main/ch18/figures/18_05.png\" width=\"500\"/>"
            ],
            "text/plain": [
              "<IPython.core.display.Image object>"
            ]
          },
          "metadata": {},
          "execution_count": 8
        }
      ],
      "source": [
        "Image(url='https://raw.githubusercontent.com/rickiepark/ml-with-pytorch/main/ch18/figures/18_05.png', width=500)"
      ]
    },
    {
      "cell_type": "markdown",
      "metadata": {
        "id": "lBdVr3JdMtVU"
      },
      "source": [
        "### 기본 그래프 합성곱 구현"
      ]
    },
    {
      "cell_type": "code",
      "execution_count": 9,
      "metadata": {
        "id": "x6_5iwh9MtVU",
        "outputId": "92a067e6-f0ce-4e2e-c70f-2af62f2f77b4",
        "colab": {
          "base_uri": "https://localhost:8080/",
          "height": 309
        }
      },
      "outputs": [
        {
          "output_type": "execute_result",
          "data": {
            "text/html": [
              "<img src=\"https://raw.githubusercontent.com/rickiepark/ml-with-pytorch/main/ch18/figures/18_06.png\" width=\"500\"/>"
            ],
            "text/plain": [
              "<IPython.core.display.Image object>"
            ]
          },
          "metadata": {},
          "execution_count": 9
        }
      ],
      "source": [
        "Image(url='https://raw.githubusercontent.com/rickiepark/ml-with-pytorch/main/ch18/figures/18_06.png', width=500)"
      ]
    },
    {
      "cell_type": "code",
      "execution_count": 10,
      "metadata": {
        "id": "fTmAblT-MtVV"
      },
      "outputs": [],
      "source": [
        "import networkx as nx\n",
        "import numpy as np"
      ]
    },
    {
      "cell_type": "code",
      "execution_count": 11,
      "metadata": {
        "id": "kpmynKchMtVV",
        "outputId": "0ef560b2-9633-4973-d9b5-df245013b234",
        "colab": {
          "base_uri": "https://localhost:8080/"
        }
      },
      "outputs": [
        {
          "output_type": "stream",
          "name": "stdout",
          "text": [
            "[[0 1 1 0]\n",
            " [1 0 1 0]\n",
            " [1 1 0 1]\n",
            " [0 0 1 0]]\n"
          ]
        }
      ],
      "source": [
        "G = nx.Graph()\n",
        "\n",
        "# 그래프를 그리기 위해 색을 16진수 코드로 나타냅니다.\n",
        "blue, orange, green = \"#1f77b4\", \"#ff7f0e\",\"#2ca02c\"\n",
        "\n",
        "G.add_nodes_from([(1, {\"color\": blue}),\n",
        "                  (2, {\"color\": orange}),\n",
        "                  (3, {\"color\": blue}),\n",
        "                  (4, {\"color\": green})])\n",
        "\n",
        "G.add_edges_from([(1, 2),(2, 3),(1, 3),(3, 4)])\n",
        "A = np.asarray(nx.adjacency_matrix(G).todense())\n",
        "print(A)"
      ]
    },
    {
      "cell_type": "code",
      "execution_count": 12,
      "metadata": {
        "id": "_NffVQifMtVV",
        "outputId": "8f05a304-217b-4d21-97e9-4f3a8eddf15d",
        "colab": {
          "base_uri": "https://localhost:8080/"
        }
      },
      "outputs": [
        {
          "output_type": "stream",
          "name": "stdout",
          "text": [
            "[[0. 1. 0.]\n",
            " [0. 0. 1.]\n",
            " [0. 1. 0.]\n",
            " [1. 0. 0.]]\n"
          ]
        }
      ],
      "source": [
        "def build_graph_color_label_representation(G,mapping_dict):\n",
        "    one_hot_idxs = np.array([mapping_dict[v] for v in\n",
        "                             nx.get_node_attributes(G, 'color').values()])\n",
        "    one_hot_encoding = np.zeros((one_hot_idxs.size,len(mapping_dict)))\n",
        "    one_hot_encoding[np.arange(one_hot_idxs.size),one_hot_idxs] = 1\n",
        "    return one_hot_encoding\n",
        "\n",
        "X = build_graph_color_label_representation(G, {green: 0, blue: 1, orange: 2})\n",
        "print(X)"
      ]
    },
    {
      "cell_type": "code",
      "execution_count": 13,
      "metadata": {
        "id": "tTzJs_WHMtVW",
        "outputId": "3b9f8f15-fee6-43bb-bc2c-6b99dce18437",
        "colab": {
          "base_uri": "https://localhost:8080/",
          "height": 516
        }
      },
      "outputs": [
        {
          "output_type": "display_data",
          "data": {
            "text/plain": [
              "<Figure size 640x480 with 1 Axes>"
            ],
            "image/png": "[encoded data removed]"
          },
          "metadata": {}
        }
      ],
      "source": [
        "color_map = nx.get_node_attributes(G, 'color').values()\n",
        "nx.draw(G, with_labels=True, node_color=color_map)"
      ]
    },
    {
      "cell_type": "code",
      "execution_count": 14,
      "metadata": {
        "id": "HzOMW7ynMtVW",
        "outputId": "92798012-d409-4695-8044-1808bd0977c8",
        "colab": {
          "base_uri": "https://localhost:8080/",
          "height": 516
        }
      },
      "outputs": [
        {
          "output_type": "execute_result",
          "data": {
            "text/html": [
              "<img src=\"https://raw.githubusercontent.com/rickiepark/ml-with-pytorch/main/ch18/figures/18_07.png\" width=\"800\"/>"
            ],
            "text/plain": [
              "<IPython.core.display.Image object>"
            ]
          },
          "metadata": {},
          "execution_count": 14
        }
      ],
      "source": [
        "Image(url='https://raw.githubusercontent.com/rickiepark/ml-with-pytorch/main/ch18/figures/18_07.png', width=800)"
      ]
    },
    {
      "cell_type": "code",
      "execution_count": 15,
      "metadata": {
        "id": "QMpaEdUbMtVX"
      },
      "outputs": [],
      "source": [
        "f_in, f_out = X.shape[1], 6\n",
        "W_1 = np.random.rand(f_in, f_out)\n",
        "W_2 = np.random.rand(f_in, f_out)\n",
        "h = np.dot(X,W_1) + np.dot(np.dot(A, X), W_2)"
      ]
    },
    {
      "cell_type": "code",
      "execution_count": 16,
      "metadata": {
        "id": "jhtS5wH_MtVX",
        "outputId": "904a30c1-344f-47c8-aed6-f7e3b50ad04f",
        "colab": {
          "base_uri": "https://localhost:8080/",
          "height": 369
        }
      },
      "outputs": [
        {
          "output_type": "execute_result",
          "data": {
            "text/html": [
              "<img src=\"https://raw.githubusercontent.com/rickiepark/ml-with-pytorch/main/ch18/figures/18_08.png\" width=\"500\"/>"
            ],
            "text/plain": [
              "<IPython.core.display.Image object>"
            ]
          },
          "metadata": {},
          "execution_count": 16
        }
      ],
      "source": [
        "Image(url='https://raw.githubusercontent.com/rickiepark/ml-with-pytorch/main/ch18/figures/18_08.png', width=500)"
      ]
    },
    {
      "cell_type": "markdown",
      "metadata": {
        "id": "SHZktInQMtVX"
      },
      "source": [
        "## 파이토치에서 GNN을 밑바닥부터 구현하기"
      ]
    },
    {
      "cell_type": "markdown",
      "metadata": {
        "id": "-PlbzS41MtVX"
      },
      "source": [
        "### NodeNetwork 모델 정의하기"
      ]
    },
    {
      "cell_type": "code",
      "execution_count": 17,
      "metadata": {
        "id": "4R-5F65HMtVY"
      },
      "outputs": [],
      "source": [
        "import networkx as nx\n",
        "import torch\n",
        "from torch.nn.parameter import Parameter\n",
        "import numpy as np\n",
        "import torch.nn.functional as F"
      ]
    },
    {
      "cell_type": "code",
      "execution_count": 18,
      "metadata": {
        "id": "4w-tAJVdMtVY"
      },
      "outputs": [],
      "source": [
        "class NodeNetwork(torch.nn.Module):\n",
        "\n",
        "    def __init__(self, input_features):\n",
        "        super().__init__()\n",
        "\n",
        "        self.conv_1 = BasicGraphConvolutionLayer(input_features, 32)\n",
        "        self.conv_2 = BasicGraphConvolutionLayer(32, 32)\n",
        "        self.fc_1 = torch.nn.Linear(32, 16)\n",
        "        self.out_layer = torch.nn.Linear(16, 2)\n",
        "\n",
        "    def forward(self, X, A,batch_mat):\n",
        "        x = self.conv_1(X, A).clamp(0)\n",
        "        x = self.conv_2(x, A).clamp(0)\n",
        "        output = global_sum_pool(x, batch_mat)\n",
        "        output = self.fc_1(output)\n",
        "        output = self.out_layer(output)\n",
        "        return F.softmax(output, dim=1)"
      ]
    },
    {
      "cell_type": "code",
      "execution_count": 19,
      "metadata": {
        "id": "t5SeOWtsMtVY",
        "outputId": "36fb9915-4b42-421d-ad7a-037d5cb81ac3",
        "colab": {
          "base_uri": "https://localhost:8080/",
          "height": 644
        }
      },
      "outputs": [
        {
          "output_type": "execute_result",
          "data": {
            "text/html": [
              "<img src=\"https://raw.githubusercontent.com/rickiepark/ml-with-pytorch/main/ch18/figures/18_09.png\" width=\"700\"/>"
            ],
            "text/plain": [
              "<IPython.core.display.Image object>"
            ]
          },
          "metadata": {},
          "execution_count": 19
        }
      ],
      "source": [
        "Image(url='https://raw.githubusercontent.com/rickiepark/ml-with-pytorch/main/ch18/figures/18_09.png', width=700)"
      ]
    },
    {
      "cell_type": "markdown",
      "metadata": {
        "id": "MWmQVQ3DMtVY"
      },
      "source": [
        "### NodeNetwork의 그래프 합성곱 층 만들기"
      ]
    },
    {
      "cell_type": "code",
      "execution_count": 20,
      "metadata": {
        "id": "tmabKGvOMtVY"
      },
      "outputs": [],
      "source": [
        "class BasicGraphConvolutionLayer(torch.nn.Module):\n",
        "\n",
        "    def __init__(self, in_channels, out_channels):\n",
        "        super().__init__()\n",
        "        self.in_channels = in_channels\n",
        "        self.out_channels = out_channels\n",
        "\n",
        "        self.W2 = Parameter(torch.rand(\n",
        "             (in_channels, out_channels), dtype=torch.float32))\n",
        "        self.W1 = Parameter(torch.rand(\n",
        "             (in_channels, out_channels), dtype=torch.float32))\n",
        "\n",
        "        self.bias = Parameter(torch.zeros(\n",
        "                 out_channels, dtype=torch.float32))\n",
        "\n",
        "    def forward(self, X, A):\n",
        "        potential_msgs = torch.mm(X, self.W2)\n",
        "        propagated_msgs = torch.mm(A, potential_msgs)\n",
        "        root_update = torch.mm(X, self.W1)\n",
        "        output = propagated_msgs + root_update + self.bias\n",
        "        return output"
      ]
    },
    {
      "cell_type": "markdown",
      "metadata": {
        "id": "4pPG1D8jMtVZ"
      },
      "source": [
        "### 다양한 그래프 크기를 처리하기 위해 전역 풀링 층 추가하기"
      ]
    },
    {
      "cell_type": "code",
      "execution_count": 21,
      "metadata": {
        "id": "lchrKPTwMtVg"
      },
      "outputs": [],
      "source": [
        "def global_sum_pool(X, batch_mat):\n",
        "    if batch_mat is None or batch_mat.dim() == 1:\n",
        "        return torch.sum(X, dim=0).unsqueeze(0)\n",
        "    else:\n",
        "        return torch.mm(batch_mat, X)"
      ]
    },
    {
      "cell_type": "code",
      "execution_count": 22,
      "metadata": {
        "id": "1ZjfQSwiMtVg",
        "outputId": "2355cafd-77b3-41dd-cf9a-cfc6b81a828e",
        "colab": {
          "base_uri": "https://localhost:8080/",
          "height": 406
        }
      },
      "outputs": [
        {
          "output_type": "execute_result",
          "data": {
            "text/html": [
              "<img src=\"https://raw.githubusercontent.com/rickiepark/ml-with-pytorch/main/ch18/figures/18_10.png\" width=\"600\"/>"
            ],
            "text/plain": [
              "<IPython.core.display.Image object>"
            ]
          },
          "metadata": {},
          "execution_count": 22
        }
      ],
      "source": [
        "Image(url='https://raw.githubusercontent.com/rickiepark/ml-with-pytorch/main/ch18/figures/18_10.png', width=600)"
      ]
    },
    {
      "cell_type": "code",
      "execution_count": 23,
      "metadata": {
        "id": "tqBHMpgdMtVg"
      },
      "outputs": [],
      "source": [
        "def get_batch_tensor(graph_sizes):\n",
        "    starts = [sum(graph_sizes[:idx]) for idx in range(len(graph_sizes))]\n",
        "    stops = [starts[idx]+graph_sizes[idx] for idx in range(len(graph_sizes))]\n",
        "    tot_len = sum(graph_sizes)\n",
        "    batch_size = len(graph_sizes)\n",
        "    batch_mat = torch.zeros([batch_size, tot_len]).float()\n",
        "    for idx, starts_and_stops in enumerate(zip(starts, stops)):\n",
        "        start = starts_and_stops[0]\n",
        "        stop = starts_and_stops[1]\n",
        "        batch_mat[idx, start:stop] = 1\n",
        "    return batch_mat"
      ]
    },
    {
      "cell_type": "code",
      "execution_count": 24,
      "metadata": {
        "id": "aElztlImMtVg"
      },
      "outputs": [],
      "source": [
        "def collate_graphs(batch):\n",
        "    adj_mats = [graph['A'] for graph in batch]\n",
        "    sizes = [A.size(0) for A in adj_mats]\n",
        "    tot_size = sum(sizes)\n",
        "    # 배치 행렬을 만듭니다.\n",
        "    batch_mat = get_batch_tensor(sizes)\n",
        "    # 특성 행렬을 연결합니다.\n",
        "    feat_mats = torch.cat([graph['X'] for graph in batch],dim=0)\n",
        "    # 레이블을 연결합니다.\n",
        "    labels = torch.cat([graph['y'] for graph in batch], dim=0)\n",
        "    # 인접 행렬을 결합합니다.\n",
        "    batch_adj = torch.zeros([tot_size, tot_size], dtype=torch.float32)\n",
        "    accum = 0\n",
        "    for adj in adj_mats:\n",
        "        g_size = adj.shape[0]\n",
        "        batch_adj[accum:accum+g_size, accum:accum+g_size] = adj\n",
        "        accum = accum + g_size\n",
        "    repr_and_label = {\n",
        "            'A': batch_adj,\n",
        "            'X': feat_mats,\n",
        "            'y': labels,\n",
        "            'batch' : batch_mat}\n",
        "\n",
        "    return repr_and_label"
      ]
    },
    {
      "cell_type": "markdown",
      "metadata": {
        "id": "mS4mD7LHMtVg"
      },
      "source": [
        "### DataLoader 준비"
      ]
    },
    {
      "cell_type": "code",
      "execution_count": 25,
      "metadata": {
        "id": "HqzbiZzHMtVh"
      },
      "outputs": [],
      "source": [
        "def get_graph_dict(G, mapping_dict):\n",
        "    # 그래프 G의 딕셔너리 표현을 만드는 함수\n",
        "    A = torch.from_numpy(np.asarray(nx.adjacency_matrix(G).todense())).float()\n",
        "    # build_graph_color_label_representation()는\n",
        "    # 첫 번째 예제 그래프와 함께 소개했습니다.\n",
        "    X = torch.from_numpy(build_graph_color_label_representation(G,mapping_dict)).float()\n",
        "    # 이 예제는 특정 작업이 없습니다.\n",
        "    y = torch.tensor([[1, 0]]).float()\n",
        "    return {'A': A, 'X': X, 'y': y, 'batch': None}\n",
        "\n",
        "# 하나의 데이터셋으로 다룰 네 개의 그래프를 만듭니다.\n",
        "blue, orange, green = \"#1f77b4\", \"#ff7f0e\",\"#2ca02c\"\n",
        "mapping_dict = {green: 0, blue: 1, orange: 2}\n",
        "\n",
        "G1 = nx.Graph()\n",
        "G1.add_nodes_from([(1, {\"color\": blue}),\n",
        "                   (2, {\"color\": orange}),\n",
        "                   (3, {\"color\": blue}),\n",
        "                   (4, {\"color\": green})])\n",
        "G1.add_edges_from([(1, 2), (2, 3),(1, 3), (3, 4)])\n",
        "G2 = nx.Graph()\n",
        "G2.add_nodes_from([(1, {\"color\": green}),\n",
        "                   (2, {\"color\": green}),\n",
        "                   (3, {\"color\": orange}),\n",
        "                   (4, {\"color\": orange}),\n",
        "                   (5,{\"color\": blue})])\n",
        "G2.add_edges_from([(2, 3),(3, 4),(3, 1),(5, 1)])\n",
        "G3 = nx.Graph()\n",
        "G3.add_nodes_from([(1, {\"color\": orange}),\n",
        "                   (2, {\"color\": orange}),\n",
        "                   (3, {\"color\": green}),\n",
        "                   (4, {\"color\": green}),\n",
        "                   (5, {\"color\": blue}),\n",
        "                   (6, {\"color\":orange})])\n",
        "G3.add_edges_from([(2, 3), (3, 4), (3, 1), (5, 1), (2, 5), (6, 1)])\n",
        "G4 = nx.Graph()\n",
        "G4.add_nodes_from([(1, {\"color\": blue}), (2, {\"color\": blue}), (3, {\"color\": green})])\n",
        "G4.add_edges_from([(1, 2), (2, 3)])\n",
        "graph_list = [get_graph_dict(graph,mapping_dict) for graph in [G1, G2, G3, G4]]"
      ]
    },
    {
      "cell_type": "code",
      "execution_count": 26,
      "metadata": {
        "id": "LZCL5qXYMtVh",
        "outputId": "848d9e7e-0245-42ed-f072-4bab6006352c",
        "colab": {
          "base_uri": "https://localhost:8080/",
          "height": 489
        }
      },
      "outputs": [
        {
          "output_type": "execute_result",
          "data": {
            "text/html": [
              "<img src=\"https://raw.githubusercontent.com/rickiepark/ml-with-pytorch/main/ch18/figures/18_11.png\" width=\"600\"/>"
            ],
            "text/plain": [
              "<IPython.core.display.Image object>"
            ]
          },
          "metadata": {},
          "execution_count": 26
        }
      ],
      "source": [
        "Image(url='https://raw.githubusercontent.com/rickiepark/ml-with-pytorch/main/ch18/figures/18_11.png', width=600)"
      ]
    },
    {
      "cell_type": "code",
      "execution_count": 27,
      "metadata": {
        "id": "wV2TRQVJMtVh"
      },
      "outputs": [],
      "source": [
        "from torch.utils.data import Dataset\n",
        "from torch.utils.data import DataLoader\n",
        "\n",
        "\n",
        "class ExampleDataset(Dataset):\n",
        "\n",
        "    # 그래프 리스트를 활용하는 간단한 파이토치 데이터셋\n",
        "    def __init__(self, graph_list):\n",
        "        self.graphs = graph_list\n",
        "\n",
        "    def __len__(self):\n",
        "        return len(self.graphs)\n",
        "\n",
        "    def __getitem__(self,idx):\n",
        "        mol_rep = self.graphs[idx]\n",
        "        return mol_rep"
      ]
    },
    {
      "cell_type": "code",
      "execution_count": 28,
      "metadata": {
        "id": "xfGZB6KNMtVj"
      },
      "outputs": [],
      "source": [
        "dset = ExampleDataset(graph_list)\n",
        "# 사용자 정의 콜레이트 함수 사용 방법\n",
        "loader = DataLoader(dset, batch_size=2, shuffle=False, collate_fn=collate_graphs)"
      ]
    },
    {
      "cell_type": "markdown",
      "metadata": {
        "id": "rnagypDoMtVk"
      },
      "source": [
        "### NodeNetwork를 사용하여 예측하기"
      ]
    },
    {
      "cell_type": "code",
      "execution_count": 29,
      "metadata": {
        "id": "oni5HMHkMtVk"
      },
      "outputs": [],
      "source": [
        "torch.manual_seed(123)\n",
        "node_features = 3\n",
        "net = NodeNetwork(node_features)"
      ]
    },
    {
      "cell_type": "code",
      "execution_count": 30,
      "metadata": {
        "id": "CuIZ_JtOMtVk",
        "outputId": "30d12bdf-3159-4325-c6b1-444a18a30f00",
        "colab": {
          "base_uri": "https://localhost:8080/"
        }
      },
      "outputs": [
        {
          "output_type": "execute_result",
          "data": {
            "text/plain": [
              "tensor(True)"
            ]
          },
          "metadata": {},
          "execution_count": 30
        }
      ],
      "source": [
        "batch_results = []\n",
        "\n",
        "for b in loader:\n",
        "    batch_results.append(net(b['X'], b['A'], b['batch']).detach())\n",
        "\n",
        "G1_rep = dset[1]\n",
        "G1_single = net(G1_rep['X'], G1_rep['A'], G1_rep['batch']).detach()\n",
        "\n",
        "G1_batch = batch_results[0][1]\n",
        "torch.all(torch.isclose(G1_single, G1_batch))"
      ]
    }
  ],
  "metadata": {
    "kernelspec": {
      "display_name": "Python 3 (ipykernel)",
      "language": "python",
      "name": "python3"
    },
    "language_info": {
      "codemirror_mode": {
        "name": "ipython",
        "version": 3
      },
      "file_extension": ".py",
      "mimetype": "text/x-python",
      "name": "python",
      "nbconvert_exporter": "python",
      "pygments_lexer": "ipython3",
      "version": "3.9.13"
    },
    "colab": {
      "provenance": []
    }
  },
  "nbformat": 4,
  "nbformat_minor": 0
}
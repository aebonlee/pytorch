{
  "cells": [
    {
      "cell_type": "markdown",
      "id": "65ecfe2a-f7c7-49d2-8008-f8416c51d787",
      "metadata": {
        "tags": [],
        "id": "65ecfe2a-f7c7-49d2-8008-f8416c51d787"
      },
      "source": [
        "# 머신 러닝 교과서 - 파이토치편"
      ]
    },
    {
      "cell_type": "markdown",
      "id": "b03f95f9",
      "metadata": {
        "id": "b03f95f9"
      },
      "source": [
        "<table align=\"left\"><tr><td>\n",
        "<a href=\"https://colab.research.google.com/github/rickiepark/ml-with-pytorch/blob/main/ch16/ch16-part1-self-attention.ipynb\" target=\"_parent\"><img src=\"https://colab.research.google.com/assets/colab-badge.svg\" alt=\"코랩에서 실행하기\"/></a>\n",
        "</td></tr></table>"
      ]
    },
    {
      "cell_type": "markdown",
      "id": "5d79d5aa-3231-455c-aacf-fcdd07b8a198",
      "metadata": {
        "id": "5d79d5aa-3231-455c-aacf-fcdd07b8a198"
      },
      "source": [
        "## 패키지 버전 체크"
      ]
    },
    {
      "cell_type": "markdown",
      "id": "96289088-4038-458d-9dec-d8332aecc942",
      "metadata": {
        "id": "96289088-4038-458d-9dec-d8332aecc942"
      },
      "source": [
        "check_packages.py 스크립트에서 로드하기 위해 폴더를 추가합니다:"
      ]
    },
    {
      "cell_type": "code",
      "execution_count": 1,
      "id": "286f3559-0d37-4b24-9fd6-46afacadd2f2",
      "metadata": {
        "id": "286f3559-0d37-4b24-9fd6-46afacadd2f2",
        "outputId": "d97d6994-1335-4c7f-fc60-f4b9252900bd",
        "colab": {
          "base_uri": "https://localhost:8080/"
        }
      },
      "outputs": [
        {
          "output_type": "stream",
          "name": "stdout",
          "text": [
            "--2023-09-05 09:11:39--  https://raw.githubusercontent.com/rickiepark/ml-with-pytorch/main/python_environment_check.py\n",
            "Resolving raw.githubusercontent.com (raw.githubusercontent.com)... 185.199.108.133, 185.199.109.133, 185.199.110.133, ...\n",
            "Connecting to raw.githubusercontent.com (raw.githubusercontent.com)|185.199.108.133|:443... connected.\n",
            "HTTP request sent, awaiting response... 200 OK\n",
            "Length: 1629 (1.6K) [text/plain]\n",
            "Saving to: ‘python_environment_check.py’\n",
            "\n",
            "python_environment_ 100%[===================>]   1.59K  --.-KB/s    in 0s      \n",
            "\n",
            "2023-09-05 09:11:41 (28.1 MB/s) - ‘python_environment_check.py’ saved [1629/1629]\n",
            "\n"
          ]
        }
      ],
      "source": [
        "import sys\n",
        "\n",
        "# 코랩의 경우 깃허브 저장소로부터 python_environment_check.py를 다운로드 합니다.\n",
        "if 'google.colab' in sys.modules:\n",
        "    !wget https://raw.githubusercontent.com/rickiepark/ml-with-pytorch/main/python_environment_check.py\n",
        "else:\n",
        "    sys.path.insert(0, '..')"
      ]
    },
    {
      "cell_type": "markdown",
      "id": "8193be7d-6732-470d-b596-52db4877cb53",
      "metadata": {
        "id": "8193be7d-6732-470d-b596-52db4877cb53"
      },
      "source": [
        "권장 패키지 버전을 확인하세요:"
      ]
    },
    {
      "cell_type": "code",
      "execution_count": 2,
      "id": "388d5500-00a7-4c74-b26b-5448d2dd12e3",
      "metadata": {
        "id": "388d5500-00a7-4c74-b26b-5448d2dd12e3",
        "outputId": "5f33ae13-f1d7-42b8-81ac-2f9ce2ed3705",
        "colab": {
          "base_uri": "https://localhost:8080/"
        }
      },
      "outputs": [
        {
          "output_type": "stream",
          "name": "stdout",
          "text": [
            "[OK] Your Python version is 3.10.12 (main, Jun 11 2023, 05:26:28) [GCC 11.4.0]\n",
            "[OK] torch 2.0.1+cu118\n"
          ]
        }
      ],
      "source": [
        "from python_environment_check import check_packages\n",
        "\n",
        "\n",
        "d = {\n",
        "    'torch': '1.9.0',\n",
        "}\n",
        "check_packages(d)"
      ]
    },
    {
      "cell_type": "markdown",
      "id": "5d59fde3",
      "metadata": {
        "id": "5d59fde3"
      },
      "source": [
        "# 16장 트랜스포머 - 어텐션 메커니즘을 통한 자연어 처리 성능 향상 (파트 1/3)"
      ]
    },
    {
      "cell_type": "markdown",
      "id": "de6d03b6",
      "metadata": {
        "id": "de6d03b6"
      },
      "source": [
        "**목차**\n",
        "\n",
        "- 어텐션 메커니즘이 추가된 RNN\n",
        "  - RNN의 정보 검색을 돕는 어텐션\n",
        "  - RNN을 위한 원본 어텐션 메커니즘\n",
        "  - 양방향 RNN으로 입력 처리하기\n",
        "  - 문맥 벡터에서 출력 생성하기\n",
        "  - 어텐션 가중치 계산하기\n",
        "- 셀프 어텐션 메커니즘 소개\n",
        "  - 기본적인 형태의 셀프 어텐션\n",
        "  - 훈련 가능한 셀프 어텐션 메카니즘: 스케일드 점곱 어텐션\n",
        "- 어텐션이 필요한 전부다: 원본 트랜스포머 아키텍처\n",
        "  - 멀티 헤드 어텐션으로 문맥 임베딩 인코딩하기\n",
        "  - 언어 모델 학습: 디코더와 마스크드 멀티 헤드 어텐션\n",
        "  - 구현 세부 사항: 위치 인코딩 및 층 정규화"
      ]
    },
    {
      "cell_type": "code",
      "execution_count": 3,
      "id": "ac570202",
      "metadata": {
        "id": "ac570202"
      },
      "outputs": [],
      "source": [
        "from IPython.display import Image"
      ]
    },
    {
      "cell_type": "markdown",
      "id": "6f4f7115",
      "metadata": {
        "id": "6f4f7115"
      },
      "source": [
        "## 어텐션 메커니즘이 추가된 RNN"
      ]
    },
    {
      "cell_type": "markdown",
      "id": "985e65d0",
      "metadata": {
        "id": "985e65d0"
      },
      "source": [
        "### RNN의 정보 검색을 돕는 어텐션"
      ]
    },
    {
      "cell_type": "code",
      "execution_count": 4,
      "id": "82a29ce7",
      "metadata": {
        "id": "82a29ce7",
        "outputId": "0bc6c6d3-b76f-41a5-c3df-241ad25a7a21",
        "colab": {
          "base_uri": "https://localhost:8080/",
          "height": 238
        }
      },
      "outputs": [
        {
          "output_type": "execute_result",
          "data": {
            "text/html": [
              "<img src=\"https://raw.githubusercontent.com/rickiepark/ml-with-pytorch/main/ch16/figures/16_01.png\" width=\"500\"/>"
            ],
            "text/plain": [
              "<IPython.core.display.Image object>"
            ]
          },
          "metadata": {},
          "execution_count": 4
        }
      ],
      "source": [
        "Image(url='https://raw.githubusercontent.com/rickiepark/ml-with-pytorch/main/ch16/figures/16_01.png', width=500)"
      ]
    },
    {
      "cell_type": "code",
      "execution_count": 5,
      "id": "177c8d99",
      "metadata": {
        "id": "177c8d99",
        "outputId": "db66840e-0b68-4756-d185-2d4f1d58b1df",
        "colab": {
          "base_uri": "https://localhost:8080/",
          "height": 219
        }
      },
      "outputs": [
        {
          "output_type": "execute_result",
          "data": {
            "text/html": [
              "<img src=\"https://raw.githubusercontent.com/rickiepark/ml-with-pytorch/main/ch16/figures/16_02.png\" width=\"700\"/>"
            ],
            "text/plain": [
              "<IPython.core.display.Image object>"
            ]
          },
          "metadata": {},
          "execution_count": 5
        }
      ],
      "source": [
        "Image(url='https://raw.githubusercontent.com/rickiepark/ml-with-pytorch/main/ch16/figures/16_02.png', width=700)"
      ]
    },
    {
      "cell_type": "markdown",
      "id": "e5f55f5a",
      "metadata": {
        "id": "e5f55f5a"
      },
      "source": [
        "### RNN을 위한 원본 어텐션 메커니즘"
      ]
    },
    {
      "cell_type": "code",
      "execution_count": 6,
      "id": "55cddcbc",
      "metadata": {
        "id": "55cddcbc",
        "outputId": "b8aeec63-3119-4151-8f56-b7ced75faac1",
        "colab": {
          "base_uri": "https://localhost:8080/",
          "height": 435
        }
      },
      "outputs": [
        {
          "output_type": "execute_result",
          "data": {
            "text/html": [
              "<img src=\"https://raw.githubusercontent.com/rickiepark/ml-with-pytorch/main/ch16/figures/16_03.png\" width=\"600\"/>"
            ],
            "text/plain": [
              "<IPython.core.display.Image object>"
            ]
          },
          "metadata": {},
          "execution_count": 6
        }
      ],
      "source": [
        "Image(url='https://raw.githubusercontent.com/rickiepark/ml-with-pytorch/main/ch16/figures/16_03.png', width=600)"
      ]
    },
    {
      "cell_type": "markdown",
      "id": "c7f4b633",
      "metadata": {
        "id": "c7f4b633"
      },
      "source": [
        "### 양방향 RNN으로 입력 처리하기\n",
        "\n",
        "### 문맥 벡터에서 출력 생성하기\n",
        "\n",
        "### 어텐션 가중치 계산하기"
      ]
    },
    {
      "cell_type": "markdown",
      "id": "6a6ab17e",
      "metadata": {
        "id": "6a6ab17e"
      },
      "source": [
        "## 셀프 어텐션 메커니즘 소개"
      ]
    },
    {
      "cell_type": "markdown",
      "id": "83fa41ab",
      "metadata": {
        "id": "83fa41ab"
      },
      "source": [
        "### 기본적인 형태의 셀프 어텐션"
      ]
    },
    {
      "cell_type": "markdown",
      "id": "d332396e",
      "metadata": {
        "id": "d332396e"
      },
      "source": [
        "- 딕셔너리로 인코딩된 입력 문장이 있다고 가정하고, RNN 장에서와 같이 단어를 정수로 매핑합니다:"
      ]
    },
    {
      "cell_type": "code",
      "execution_count": 7,
      "id": "5354c287",
      "metadata": {
        "id": "5354c287",
        "outputId": "25356f75-bd49-449d-bc07-3844b97519f3",
        "colab": {
          "base_uri": "https://localhost:8080/"
        }
      },
      "outputs": [
        {
          "output_type": "execute_result",
          "data": {
            "text/plain": [
              "tensor([0, 7, 1, 2, 5, 6, 4, 3])"
            ]
          },
          "metadata": {},
          "execution_count": 7
        }
      ],
      "source": [
        "import torch\n",
        "\n",
        "\n",
        "# 입력 문장:\n",
        "#  \"Can you help me to translate this sentence\"\n",
        "\n",
        "sentence = torch.tensor(\n",
        "    [0, # can\n",
        "     7, # you\n",
        "     1, # help\n",
        "     2, # me\n",
        "     5, # to\n",
        "     6, # translate\n",
        "     4, # this\n",
        "     3] # sentence\n",
        ")\n",
        "\n",
        "sentence"
      ]
    },
    {
      "cell_type": "markdown",
      "id": "dcbf583d",
      "metadata": {
        "id": "dcbf583d"
      },
      "source": [
        "- 다음으로 단어가 임베딩되어 있다고 가정합니다. 즉, 단어가 실수 벡터로 표현된다고 가정합니다.\n",
        "- 단어가 8개이므로 벡터는 8개가 됩니다. 각 벡터는 16차원입니다:"
      ]
    },
    {
      "cell_type": "code",
      "execution_count": 8,
      "id": "ae798ac3",
      "metadata": {
        "id": "ae798ac3",
        "outputId": "0037d9cb-afa3-44da-aba0-6de925a49706",
        "colab": {
          "base_uri": "https://localhost:8080/"
        }
      },
      "outputs": [
        {
          "output_type": "execute_result",
          "data": {
            "text/plain": [
              "torch.Size([8, 16])"
            ]
          },
          "metadata": {},
          "execution_count": 8
        }
      ],
      "source": [
        "torch.manual_seed(123)\n",
        "embed = torch.nn.Embedding(10, 16)\n",
        "embedded_sentence = embed(sentence).detach()\n",
        "embedded_sentence.shape"
      ]
    },
    {
      "cell_type": "markdown",
      "id": "a51ff91d",
      "metadata": {
        "id": "a51ff91d"
      },
      "source": [
        "- 문맥 벡터 $\\boldsymbol{z}^{(i)}=\\sum_{j=1}^{T} \\alpha_{i j} \\boldsymbol{x}^{(j)}$를 계산하는 것이 목표입니다. $\\alpha_{i j}$는 어텐션 가중치입니다.\n",
        "- 어텐션 가중치 $\\alpha_{i j}$는 $\\omega_{i j}$ 값을 사용합니다.\n",
        "- 먼저 $\\omega_{i j}$를 점곱으로 계산해 보죠:\n",
        "\n",
        "$$\\omega_{i j}=\\boldsymbol{x}^{(i)^{\\top}} \\boldsymbol{x}^{(j)}$$"
      ]
    },
    {
      "cell_type": "code",
      "execution_count": 9,
      "id": "a71878a8",
      "metadata": {
        "id": "a71878a8"
      },
      "outputs": [],
      "source": [
        "omega = torch.empty(8, 8)\n",
        "\n",
        "for i, x_i in enumerate(embedded_sentence):\n",
        "    for j, x_j in enumerate(embedded_sentence):\n",
        "        omega[i, j] = torch.dot(x_i, x_j)"
      ]
    },
    {
      "cell_type": "markdown",
      "id": "ddb1ec54",
      "metadata": {
        "id": "ddb1ec54"
      },
      "source": [
        "- 중첩된 for-루프를 행렬 곱셈으로 대체하여 더 효율적으로 계산해 보겠습니다:"
      ]
    },
    {
      "cell_type": "code",
      "execution_count": 10,
      "id": "d56ff05b",
      "metadata": {
        "id": "d56ff05b"
      },
      "outputs": [],
      "source": [
        "omega_mat = embedded_sentence.matmul(embedded_sentence.T)"
      ]
    },
    {
      "cell_type": "code",
      "execution_count": 11,
      "id": "66ed96fa",
      "metadata": {
        "id": "66ed96fa",
        "outputId": "ec8e3713-e051-4966-f1e2-9ebf7d44ab84",
        "colab": {
          "base_uri": "https://localhost:8080/"
        }
      },
      "outputs": [
        {
          "output_type": "execute_result",
          "data": {
            "text/plain": [
              "True"
            ]
          },
          "metadata": {},
          "execution_count": 11
        }
      ],
      "source": [
        "torch.allclose(omega_mat, omega)"
      ]
    },
    {
      "cell_type": "markdown",
      "id": "4c2a529e",
      "metadata": {
        "id": "4c2a529e"
      },
      "source": [
        "- $\\omega$를 정규화하여 어텐션 가중치를 계산하며 모두 더하면 1이 되도록 만듭니다.\n",
        "\n",
        "$$\\alpha_{i j}=\\frac{\\exp \\left(\\omega_{i j}\\right)}{\\sum_{j=1}^{T} \\exp \\left(\\omega_{i j}\\right)}=\\operatorname{softmax}\\left(\\left[\\omega_{i j}\\right]_{j=1 \\ldots T}\\right)$$\n",
        "\n",
        "$$\\sum_{j=1}^{T} \\alpha_{i j}=1$$"
      ]
    },
    {
      "cell_type": "code",
      "execution_count": 12,
      "id": "2f8c861b",
      "metadata": {
        "id": "2f8c861b",
        "outputId": "ca1208c9-9d5f-421c-b15c-b67ee85e63c2",
        "colab": {
          "base_uri": "https://localhost:8080/"
        }
      },
      "outputs": [
        {
          "output_type": "execute_result",
          "data": {
            "text/plain": [
              "torch.Size([8, 8])"
            ]
          },
          "metadata": {},
          "execution_count": 12
        }
      ],
      "source": [
        "import torch.nn.functional as F\n",
        "\n",
        "attention_weights = F.softmax(omega, dim=1)\n",
        "attention_weights.shape"
      ]
    },
    {
      "cell_type": "markdown",
      "id": "567abf03",
      "metadata": {
        "id": "567abf03"
      },
      "source": [
        "- 열의 합이 1이 되도록 할 수 있습니다:"
      ]
    },
    {
      "cell_type": "code",
      "execution_count": 13,
      "id": "ac8d3c15",
      "metadata": {
        "id": "ac8d3c15",
        "outputId": "b62cbf9b-1538-4cf3-8c83-6ca4795f958b",
        "colab": {
          "base_uri": "https://localhost:8080/"
        }
      },
      "outputs": [
        {
          "output_type": "execute_result",
          "data": {
            "text/plain": [
              "tensor([1.0000, 1.0000, 1.0000, 1.0000, 1.0000, 1.0000, 1.0000, 1.0000])"
            ]
          },
          "metadata": {},
          "execution_count": 13
        }
      ],
      "source": [
        "attention_weights.sum(dim=1)"
      ]
    },
    {
      "cell_type": "code",
      "execution_count": 14,
      "id": "e02dc06f",
      "metadata": {
        "id": "e02dc06f",
        "outputId": "7e92e0d0-1e24-4a81-b88a-9e9f55f4cb07",
        "colab": {
          "base_uri": "https://localhost:8080/",
          "height": 341
        }
      },
      "outputs": [
        {
          "output_type": "execute_result",
          "data": {
            "text/html": [
              "<img src=\"https://raw.githubusercontent.com/rickiepark/ml-with-pytorch/main/ch16/figures/16_04.png\" width=\"700\"/>"
            ],
            "text/plain": [
              "<IPython.core.display.Image object>"
            ]
          },
          "metadata": {},
          "execution_count": 14
        }
      ],
      "source": [
        "Image(url='https://raw.githubusercontent.com/rickiepark/ml-with-pytorch/main/ch16/figures/16_04.png', width=700)"
      ]
    },
    {
      "cell_type": "markdown",
      "id": "8d05b08b",
      "metadata": {
        "id": "8d05b08b"
      },
      "source": [
        "- 어텐션 가중치를 얻었으므로 어텐션 가중치 $\\alpha_{i j}$를 사용하여 문맥 벡터 $\\boldsymbol{z}^{(i)}=\\sum_{j=1}^{T} \\alpha_{i j} \\boldsymbol{x}^{(j)}$를 계산합니다.\n",
        "- 예를 들어 두 번째 입력 원소(인덱스가 1인 원소)의 문맥 벡터를 다음과 같이 계산할 수 있습니다:"
      ]
    },
    {
      "cell_type": "code",
      "execution_count": 15,
      "id": "f20eb176",
      "metadata": {
        "id": "f20eb176",
        "outputId": "344b25ab-3f05-4e81-f210-f61997b76bbc",
        "colab": {
          "base_uri": "https://localhost:8080/"
        }
      },
      "outputs": [
        {
          "output_type": "execute_result",
          "data": {
            "text/plain": [
              "tensor([-9.3975e-01, -4.6856e-01,  1.0311e+00, -2.8192e-01,  4.9373e-01,\n",
              "        -1.2896e-02, -2.7327e-01, -7.6358e-01,  1.3958e+00, -9.9543e-01,\n",
              "        -7.1287e-04,  1.2449e+00, -7.8077e-02,  1.2765e+00, -1.4589e+00,\n",
              "        -2.1601e+00])"
            ]
          },
          "metadata": {},
          "execution_count": 15
        }
      ],
      "source": [
        "x_2 = embedded_sentence[1, :]\n",
        "context_vec_2 = torch.zeros(x_2.shape)\n",
        "for j in range(8):\n",
        "    x_j = embedded_sentence[j, :]\n",
        "    context_vec_2 += attention_weights[1, j] * x_j\n",
        "\n",
        "context_vec_2"
      ]
    },
    {
      "cell_type": "markdown",
      "id": "f12e29da",
      "metadata": {
        "id": "f12e29da"
      },
      "source": [
        "- 또는 더 효율적으로 선형 대수와 행렬 곱셈을 사용합니다:"
      ]
    },
    {
      "cell_type": "code",
      "execution_count": 16,
      "id": "1b12daf0",
      "metadata": {
        "id": "1b12daf0",
        "outputId": "c9998a32-8179-4ea0-ce85-f568ccf65f99",
        "colab": {
          "base_uri": "https://localhost:8080/"
        }
      },
      "outputs": [
        {
          "output_type": "execute_result",
          "data": {
            "text/plain": [
              "True"
            ]
          },
          "metadata": {},
          "execution_count": 16
        }
      ],
      "source": [
        "context_vectors = torch.matmul(\n",
        "        attention_weights, embedded_sentence)\n",
        "\n",
        "\n",
        "torch.allclose(context_vec_2, context_vectors[1])"
      ]
    },
    {
      "cell_type": "markdown",
      "id": "ee6c347a",
      "metadata": {
        "id": "ee6c347a"
      },
      "source": [
        "### 훈련 가능한 셀프 어텐션 메카니즘: 스케일드 점곱 어텐션"
      ]
    },
    {
      "cell_type": "code",
      "execution_count": 17,
      "id": "1aec5149",
      "metadata": {
        "id": "1aec5149",
        "outputId": "d8bc23f1-4641-400c-c3ed-731ff6439d5c",
        "colab": {
          "base_uri": "https://localhost:8080/",
          "height": 422
        }
      },
      "outputs": [
        {
          "output_type": "execute_result",
          "data": {
            "text/html": [
              "<img src=\"https://raw.githubusercontent.com/rickiepark/ml-with-pytorch/main/ch16/figures/16_05.png\" width=\"700\"/>"
            ],
            "text/plain": [
              "<IPython.core.display.Image object>"
            ]
          },
          "metadata": {},
          "execution_count": 17
        }
      ],
      "source": [
        "Image(url='https://raw.githubusercontent.com/rickiepark/ml-with-pytorch/main/ch16/figures/16_05.png', width=700)"
      ]
    },
    {
      "cell_type": "code",
      "execution_count": 18,
      "id": "58228401",
      "metadata": {
        "id": "58228401"
      },
      "outputs": [],
      "source": [
        "torch.manual_seed(123)\n",
        "\n",
        "d = embedded_sentence.shape[1]\n",
        "U_query = torch.rand(d, d)\n",
        "U_key = torch.rand(d, d)\n",
        "U_value = torch.rand(d, d)"
      ]
    },
    {
      "cell_type": "code",
      "execution_count": 19,
      "id": "9552a49b",
      "metadata": {
        "id": "9552a49b"
      },
      "outputs": [],
      "source": [
        "x_2 = embedded_sentence[1]\n",
        "query_2 = U_query.matmul(x_2)"
      ]
    },
    {
      "cell_type": "code",
      "execution_count": 20,
      "id": "defcd1c6",
      "metadata": {
        "id": "defcd1c6"
      },
      "outputs": [],
      "source": [
        "key_2 = U_key.matmul(x_2)\n",
        "value_2 = U_value.matmul(x_2)"
      ]
    },
    {
      "cell_type": "code",
      "execution_count": 21,
      "id": "2e96b233",
      "metadata": {
        "id": "2e96b233",
        "outputId": "a9dcbfde-9c87-434b-a3f9-622251e3222a",
        "colab": {
          "base_uri": "https://localhost:8080/"
        }
      },
      "outputs": [
        {
          "output_type": "execute_result",
          "data": {
            "text/plain": [
              "True"
            ]
          },
          "metadata": {},
          "execution_count": 21
        }
      ],
      "source": [
        "keys = U_key.matmul(embedded_sentence.T).T\n",
        "torch.allclose(key_2, keys[1])"
      ]
    },
    {
      "cell_type": "code",
      "execution_count": 22,
      "id": "9039d730",
      "metadata": {
        "id": "9039d730",
        "outputId": "b80136d9-fc41-4bdc-a8d9-c9571e24769f",
        "colab": {
          "base_uri": "https://localhost:8080/"
        }
      },
      "outputs": [
        {
          "output_type": "execute_result",
          "data": {
            "text/plain": [
              "True"
            ]
          },
          "metadata": {},
          "execution_count": 22
        }
      ],
      "source": [
        "values = U_value.matmul(embedded_sentence.T).T\n",
        "torch.allclose(value_2, values[1])"
      ]
    },
    {
      "cell_type": "code",
      "execution_count": 23,
      "id": "bc883167",
      "metadata": {
        "id": "bc883167",
        "outputId": "a54c6db9-03b8-421a-bd6e-ba907a703676",
        "colab": {
          "base_uri": "https://localhost:8080/"
        }
      },
      "outputs": [
        {
          "output_type": "execute_result",
          "data": {
            "text/plain": [
              "tensor(14.3667)"
            ]
          },
          "metadata": {},
          "execution_count": 23
        }
      ],
      "source": [
        "omega_23 = query_2.dot(keys[2])\n",
        "omega_23"
      ]
    },
    {
      "cell_type": "code",
      "execution_count": 24,
      "id": "831585e8",
      "metadata": {
        "id": "831585e8",
        "outputId": "43a8c43f-df17-4e3d-ddd4-43fc4fb1c2f4",
        "colab": {
          "base_uri": "https://localhost:8080/"
        }
      },
      "outputs": [
        {
          "output_type": "execute_result",
          "data": {
            "text/plain": [
              "tensor([-25.1623,   9.3602,  14.3667,  32.1482,  53.8976,  46.6626,  -1.2131,\n",
              "        -32.9392])"
            ]
          },
          "metadata": {},
          "execution_count": 24
        }
      ],
      "source": [
        "omega_2 = query_2.matmul(keys.T)\n",
        "omega_2"
      ]
    },
    {
      "cell_type": "code",
      "execution_count": 25,
      "id": "7ee2cf8e",
      "metadata": {
        "id": "7ee2cf8e",
        "outputId": "b5cc4aa7-0ec9-4b6b-f785-8a5d1d2ad85b",
        "colab": {
          "base_uri": "https://localhost:8080/"
        }
      },
      "outputs": [
        {
          "output_type": "execute_result",
          "data": {
            "text/plain": [
              "tensor([2.2317e-09, 1.2499e-05, 4.3696e-05, 3.7242e-03, 8.5596e-01, 1.4026e-01,\n",
              "        8.8897e-07, 3.1935e-10])"
            ]
          },
          "metadata": {},
          "execution_count": 25
        }
      ],
      "source": [
        "attention_weights_2 = F.softmax(omega_2 / d**0.5, dim=0)\n",
        "attention_weights_2"
      ]
    },
    {
      "cell_type": "code",
      "execution_count": 26,
      "id": "28ed1e81",
      "metadata": {
        "id": "28ed1e81"
      },
      "outputs": [],
      "source": [
        "#context_vector_2nd = torch.zeros(values[1, :].shape)\n",
        "#for j in range(8):\n",
        "#    context_vector_2nd += attention_weights_2[j] * values[j, :]\n",
        "\n",
        "#context_vector_2nd"
      ]
    },
    {
      "cell_type": "code",
      "execution_count": 27,
      "id": "3f6e182b",
      "metadata": {
        "id": "3f6e182b",
        "outputId": "323ea9d9-3a5e-43a8-be38-dc88af594602",
        "colab": {
          "base_uri": "https://localhost:8080/"
        }
      },
      "outputs": [
        {
          "output_type": "execute_result",
          "data": {
            "text/plain": [
              "tensor([-1.2226, -3.4387, -4.3928, -5.2125, -1.1249, -3.3041, -1.4316, -3.2765,\n",
              "        -2.5114, -2.6105, -1.5793, -2.8433, -2.4142, -0.3998, -1.9917, -3.3499])"
            ]
          },
          "metadata": {},
          "execution_count": 27
        }
      ],
      "source": [
        "context_vector_2 = attention_weights_2.matmul(values)\n",
        "context_vector_2"
      ]
    },
    {
      "cell_type": "markdown",
      "id": "479dfc54",
      "metadata": {
        "id": "479dfc54"
      },
      "source": [
        "## 어텐션이 필요한 전부다: 원본 트랜스포머 아키텍처"
      ]
    },
    {
      "cell_type": "code",
      "execution_count": 28,
      "id": "7f186556",
      "metadata": {
        "id": "7f186556",
        "outputId": "0b287bd9-5144-4fa4-b18e-cbdf3de17035",
        "colab": {
          "base_uri": "https://localhost:8080/",
          "height": 747
        }
      },
      "outputs": [
        {
          "output_type": "execute_result",
          "data": {
            "text/html": [
              "<img src=\"https://raw.githubusercontent.com/rickiepark/ml-with-pytorch/main/ch16/figures/16_06.png\" width=\"600\"/>"
            ],
            "text/plain": [
              "<IPython.core.display.Image object>"
            ]
          },
          "metadata": {},
          "execution_count": 28
        }
      ],
      "source": [
        "Image(url='https://raw.githubusercontent.com/rickiepark/ml-with-pytorch/main/ch16/figures/16_06.png', width=600)"
      ]
    },
    {
      "cell_type": "markdown",
      "id": "88d42f57",
      "metadata": {
        "id": "88d42f57"
      },
      "source": [
        "### 멀티 헤드 어텐션으로 문맥 임베딩 인코딩하기"
      ]
    },
    {
      "cell_type": "code",
      "execution_count": 29,
      "id": "03d2d5b9",
      "metadata": {
        "id": "03d2d5b9"
      },
      "outputs": [],
      "source": [
        "torch.manual_seed(123)\n",
        "\n",
        "d = embedded_sentence.shape[1]\n",
        "one_U_query = torch.rand(d, d)"
      ]
    },
    {
      "cell_type": "code",
      "execution_count": 30,
      "id": "61c2f384",
      "metadata": {
        "id": "61c2f384"
      },
      "outputs": [],
      "source": [
        "h = 8\n",
        "multihead_U_query = torch.rand(h, d, d)\n",
        "multihead_U_key = torch.rand(h, d, d)\n",
        "multihead_U_value = torch.rand(h, d, d)"
      ]
    },
    {
      "cell_type": "code",
      "execution_count": 31,
      "id": "faba8df5",
      "metadata": {
        "id": "faba8df5",
        "outputId": "660e6560-34df-4a80-f8dd-443e9814d9b3",
        "colab": {
          "base_uri": "https://localhost:8080/"
        }
      },
      "outputs": [
        {
          "output_type": "execute_result",
          "data": {
            "text/plain": [
              "torch.Size([8, 16])"
            ]
          },
          "metadata": {},
          "execution_count": 31
        }
      ],
      "source": [
        "multihead_query_2 = multihead_U_query.matmul(x_2)\n",
        "multihead_query_2.shape"
      ]
    },
    {
      "cell_type": "code",
      "execution_count": 32,
      "id": "906d4d5d",
      "metadata": {
        "id": "906d4d5d"
      },
      "outputs": [],
      "source": [
        "multihead_key_2 = multihead_U_key.matmul(x_2)\n",
        "multihead_value_2 = multihead_U_value.matmul(x_2)"
      ]
    },
    {
      "cell_type": "code",
      "execution_count": 33,
      "id": "9884c121",
      "metadata": {
        "id": "9884c121",
        "outputId": "4a678e38-3ebb-4178-d1d0-d97045f8a386",
        "colab": {
          "base_uri": "https://localhost:8080/"
        }
      },
      "outputs": [
        {
          "output_type": "execute_result",
          "data": {
            "text/plain": [
              "tensor([-1.9619, -0.7701, -0.7280, -1.6840, -1.0801, -1.6778,  0.6763,  0.6547,\n",
              "         1.4445, -2.7016, -1.1364, -1.1204, -2.4430, -0.5982, -0.8292, -1.4401])"
            ]
          },
          "metadata": {},
          "execution_count": 33
        }
      ],
      "source": [
        "multihead_key_2[2]"
      ]
    },
    {
      "cell_type": "code",
      "execution_count": 34,
      "id": "7707eab8",
      "metadata": {
        "id": "7707eab8",
        "outputId": "cfae6df4-2199-4904-8e94-9f06d7e49e53",
        "colab": {
          "base_uri": "https://localhost:8080/"
        }
      },
      "outputs": [
        {
          "output_type": "execute_result",
          "data": {
            "text/plain": [
              "torch.Size([8, 16, 8])"
            ]
          },
          "metadata": {},
          "execution_count": 34
        }
      ],
      "source": [
        "stacked_inputs = embedded_sentence.T.repeat(8, 1, 1)\n",
        "stacked_inputs.shape"
      ]
    },
    {
      "cell_type": "code",
      "execution_count": 35,
      "id": "c38e4499",
      "metadata": {
        "id": "c38e4499",
        "outputId": "f1bdcd6c-b02c-40b6-d513-a3b5a52e18b4",
        "colab": {
          "base_uri": "https://localhost:8080/"
        }
      },
      "outputs": [
        {
          "output_type": "execute_result",
          "data": {
            "text/plain": [
              "torch.Size([8, 16, 8])"
            ]
          },
          "metadata": {},
          "execution_count": 35
        }
      ],
      "source": [
        "multihead_keys = torch.bmm(multihead_U_key, stacked_inputs)\n",
        "multihead_keys.shape"
      ]
    },
    {
      "cell_type": "code",
      "execution_count": 36,
      "id": "e218bb84",
      "metadata": {
        "id": "e218bb84",
        "outputId": "4f99047c-1b10-43ae-fbdd-b836bc1ccc29",
        "colab": {
          "base_uri": "https://localhost:8080/"
        }
      },
      "outputs": [
        {
          "output_type": "execute_result",
          "data": {
            "text/plain": [
              "torch.Size([8, 8, 16])"
            ]
          },
          "metadata": {},
          "execution_count": 36
        }
      ],
      "source": [
        "multihead_keys = multihead_keys.permute(0, 2, 1)\n",
        "multihead_keys.shape"
      ]
    },
    {
      "cell_type": "code",
      "execution_count": 37,
      "id": "2aa2f576",
      "metadata": {
        "id": "2aa2f576",
        "outputId": "e15863ec-5283-49ca-80fc-93bd46339076",
        "colab": {
          "base_uri": "https://localhost:8080/"
        }
      },
      "outputs": [
        {
          "output_type": "execute_result",
          "data": {
            "text/plain": [
              "tensor([-1.9619, -0.7701, -0.7280, -1.6840, -1.0801, -1.6778,  0.6763,  0.6547,\n",
              "         1.4445, -2.7016, -1.1364, -1.1204, -2.4430, -0.5982, -0.8292, -1.4401])"
            ]
          },
          "metadata": {},
          "execution_count": 37
        }
      ],
      "source": [
        "multihead_keys[2, 1] # index: [2nd attention head, 2nd key]"
      ]
    },
    {
      "cell_type": "code",
      "execution_count": 38,
      "id": "c5d94bec",
      "metadata": {
        "id": "c5d94bec"
      },
      "outputs": [],
      "source": [
        "multihead_values = torch.matmul(multihead_U_value, stacked_inputs)\n",
        "multihead_values = multihead_values.permute(0, 2, 1)"
      ]
    },
    {
      "cell_type": "code",
      "execution_count": 39,
      "id": "927b433a",
      "metadata": {
        "id": "927b433a"
      },
      "outputs": [],
      "source": [
        "multihead_z_2 = torch.rand(8, 16)"
      ]
    },
    {
      "cell_type": "code",
      "execution_count": 40,
      "id": "b30549cb",
      "metadata": {
        "id": "b30549cb",
        "outputId": "d920fac7-9daf-4860-9cc9-f76cf70db0ed",
        "colab": {
          "base_uri": "https://localhost:8080/",
          "height": 438
        }
      },
      "outputs": [
        {
          "output_type": "execute_result",
          "data": {
            "text/html": [
              "<img src=\"https://raw.githubusercontent.com/rickiepark/ml-with-pytorch/main/ch16/figures/16_07.png\" width=\"700\"/>"
            ],
            "text/plain": [
              "<IPython.core.display.Image object>"
            ]
          },
          "metadata": {},
          "execution_count": 40
        }
      ],
      "source": [
        "Image(url='https://raw.githubusercontent.com/rickiepark/ml-with-pytorch/main/ch16/figures/16_07.png', width=700)"
      ]
    },
    {
      "cell_type": "code",
      "execution_count": 41,
      "id": "0f5104c9",
      "metadata": {
        "id": "0f5104c9",
        "outputId": "e971cf4d-b6c2-41d7-e27c-6632806bd281",
        "colab": {
          "base_uri": "https://localhost:8080/"
        }
      },
      "outputs": [
        {
          "output_type": "execute_result",
          "data": {
            "text/plain": [
              "torch.Size([16])"
            ]
          },
          "metadata": {},
          "execution_count": 41
        }
      ],
      "source": [
        "linear = torch.nn.Linear(8*16, 16)\n",
        "context_vector_2 = linear(multihead_z_2.flatten())\n",
        "context_vector_2.shape"
      ]
    },
    {
      "cell_type": "markdown",
      "id": "0f8a2774",
      "metadata": {
        "id": "0f8a2774"
      },
      "source": [
        "### 언어 모델 학습: 디코더와 마스크드 멀티 헤드 어텐션"
      ]
    },
    {
      "cell_type": "code",
      "execution_count": 42,
      "id": "799ec1c5",
      "metadata": {
        "id": "799ec1c5",
        "outputId": "6d2b2276-bb90-44d6-acc4-86a33aead4e6",
        "colab": {
          "base_uri": "https://localhost:8080/",
          "height": 289
        }
      },
      "outputs": [
        {
          "output_type": "execute_result",
          "data": {
            "text/html": [
              "<img src=\"https://raw.githubusercontent.com/rickiepark/ml-with-pytorch/main/ch16/figures/16_08.png\" width=\"600\"/>"
            ],
            "text/plain": [
              "<IPython.core.display.Image object>"
            ]
          },
          "metadata": {},
          "execution_count": 42
        }
      ],
      "source": [
        "Image(url='https://raw.githubusercontent.com/rickiepark/ml-with-pytorch/main/ch16/figures/16_08.png', width=600)"
      ]
    },
    {
      "cell_type": "markdown",
      "id": "d28b1fa9",
      "metadata": {
        "id": "d28b1fa9"
      },
      "source": [
        "### 구현 세부 사항: 위치 인코딩 및 층 정규화"
      ]
    },
    {
      "cell_type": "code",
      "execution_count": 43,
      "id": "8fd4c805",
      "metadata": {
        "id": "8fd4c805",
        "outputId": "c7a3bee3-f9a9-4e42-dbbd-8dc12575029c",
        "colab": {
          "base_uri": "https://localhost:8080/",
          "height": 380
        }
      },
      "outputs": [
        {
          "output_type": "execute_result",
          "data": {
            "text/html": [
              "<img src=\"https://raw.githubusercontent.com/rickiepark/ml-with-pytorch/main/ch16/figures/16_09.png\" width=\"600\"/>"
            ],
            "text/plain": [
              "<IPython.core.display.Image object>"
            ]
          },
          "metadata": {},
          "execution_count": 43
        }
      ],
      "source": [
        "Image(url='https://raw.githubusercontent.com/rickiepark/ml-with-pytorch/main/ch16/figures/16_09.png', width=600)"
      ]
    }
  ],
  "metadata": {
    "kernelspec": {
      "display_name": "Python 3 (ipykernel)",
      "language": "python",
      "name": "python3"
    },
    "language_info": {
      "codemirror_mode": {
        "name": "ipython",
        "version": 3
      },
      "file_extension": ".py",
      "mimetype": "text/x-python",
      "name": "python",
      "nbconvert_exporter": "python",
      "pygments_lexer": "ipython3",
      "version": "3.8.2"
    },
    "colab": {
      "provenance": []
    }
  },
  "nbformat": 4,
  "nbformat_minor": 5
}